{
 "cells": [
  {
   "cell_type": "markdown",
   "id": "c8d079f4",
   "metadata": {},
   "source": [
    "1.Which keyword is used to create a function? Create a function to return a list of odd numbers in the\n",
    "range of 1 to 25.\n",
    "\n",
    "In Python, the keyword used to create a function is \"def\"."
   ]
  },
  {
   "cell_type": "code",
   "execution_count": null,
   "id": "7aa72445",
   "metadata": {},
   "outputs": [],
   "source": [
    "#Example:\n",
    "def find_odd_no():\n",
    "    odd_no=[]\n",
    "    for i in range(1,25):\n",
    "        if i%2 != 0:\n",
    "           odd_no.append(i)\n",
    "    return odd_no"
   ]
  },
  {
   "cell_type": "code",
   "execution_count": 10,
   "id": "85b20b78",
   "metadata": {},
   "outputs": [],
   "source": [
    "result = find_odd_no()"
   ]
  },
  {
   "cell_type": "code",
   "execution_count": 12,
   "id": "360f8902",
   "metadata": {},
   "outputs": [
    {
     "name": "stdout",
     "output_type": "stream",
     "text": [
      "[1, 3, 5, 7, 9, 11, 13, 15, 17, 19, 21, 23]\n"
     ]
    }
   ],
   "source": [
    "print(result)"
   ]
  },
  {
   "cell_type": "markdown",
   "id": "40ce2e1c",
   "metadata": {},
   "source": [
    "2.Why *args and **kwargs is used in some functions? Create a function each for *args and **kwargs\n",
    "to demonstrate their use."
   ]
  },
  {
   "cell_type": "markdown",
   "id": "f37c28db",
   "metadata": {},
   "source": [
    "In Python, *args and **kwargs are used to handle variable-length arguments in functions. They allow you to pass a varying number of positional and keyword arguments, respectively, to a function. This is particularly useful when you don't know in advance how many arguments will be passed or when you want to provide a flexible interface for your function.\n",
    "\n"
   ]
  },
  {
   "cell_type": "markdown",
   "id": "0ea638a9",
   "metadata": {},
   "source": [
    "The *args parameter allows a function to accept an arbitrary number of positional arguments. When you use *args in a function definition, it collects all the extra positional arguments as a tuple.\n"
   ]
  },
  {
   "cell_type": "code",
   "execution_count": 13,
   "id": "89c90856",
   "metadata": {},
   "outputs": [
    {
     "name": "stdout",
     "output_type": "stream",
     "text": [
      "15\n",
      "60\n"
     ]
    }
   ],
   "source": [
    "#Example:\n",
    "def sum_numbers(*args):\n",
    "    result = 0\n",
    "    for num in args:\n",
    "        result += num\n",
    "    return result\n",
    "\n",
    "print(sum_numbers(1, 2, 3, 4, 5))  \n",
    "print(sum_numbers(10, 20, 30))     \n"
   ]
  },
  {
   "cell_type": "markdown",
   "id": "3785180b",
   "metadata": {},
   "source": [
    "The **kwargs parameter allows a function to accept an arbitrary number of keyword arguments. When you use **kwargs in a function definition, it collects all the extra keyword arguments as a dictionary, where the keys are the argument names and the values are the argument values."
   ]
  },
  {
   "cell_type": "code",
   "execution_count": 14,
   "id": "3fe3ccef",
   "metadata": {},
   "outputs": [
    {
     "name": "stdout",
     "output_type": "stream",
     "text": [
      "name: John\n",
      "age: 30\n",
      "city: New York\n"
     ]
    }
   ],
   "source": [
    "#Example:\n",
    "def print_kwargs(**kwargs):\n",
    "    for key, value in kwargs.items():\n",
    "        print(f\"{key}: {value}\")\n",
    "\n",
    "print_kwargs(name=\"John\", age=30, city=\"New York\")\n"
   ]
  },
  {
   "cell_type": "markdown",
   "id": "e2d24858",
   "metadata": {},
   "source": [
    "3.What is an iterator in python? Name the method used to initialise the iterator object and the method\n",
    "used for iteration. Use these methods to print the first five elements of the given list [2, 4, 6, 8, 10, 12, 14,\n",
    "16, 18, 20]."
   ]
  },
  {
   "cell_type": "markdown",
   "id": "9eacaa77",
   "metadata": {},
   "source": [
    "In Python, an iterator is an object that implements two methods: __iter__() and __next__(). It allows you to loop over elements in a sequence, like a list, tuple, or a custom-defined object, without the need for an explicit index. The __iter__() method initializes the iterator object, and the __next__() method is used for iteration, which retrieves the next element from the sequence"
   ]
  },
  {
   "cell_type": "code",
   "execution_count": 15,
   "id": "716dc820",
   "metadata": {},
   "outputs": [
    {
     "name": "stdout",
     "output_type": "stream",
     "text": [
      "2\n",
      "4\n",
      "6\n",
      "8\n",
      "10\n"
     ]
    }
   ],
   "source": [
    "\n",
    "my_list = [2, 4, 6, 8, 10, 12, 14, 16, 18, 20]\n",
    "\n",
    "my_iterator = iter(my_list)\n",
    "\n",
    "for _ in range(5):\n",
    "    element = next(my_iterator)\n",
    "    print(element)\n"
   ]
  },
  {
   "cell_type": "markdown",
   "id": "844f9934",
   "metadata": {},
   "source": [
    "4.What is a generator function in python? Why yield keyword is used? Give an example of a generator function.\n"
   ]
  },
  {
   "cell_type": "markdown",
   "id": "147c1f03",
   "metadata": {},
   "source": [
    "In Python, a generator function is a special type of function that uses the yield keyword to return an iterator instead of returning a single value. When a generator function is called, it doesn't execute the function body immediately; instead, it returns a generator object, which can be iterated over to produce a sequence of values one at a time. The generator function is paused and resumed automatically during iterations, maintaining its internal state.\n",
    "\n"
   ]
  },
  {
   "cell_type": "code",
   "execution_count": 17,
   "id": "8b575091",
   "metadata": {},
   "outputs": [
    {
     "name": "stdout",
     "output_type": "stream",
     "text": [
      "0\n",
      "2\n",
      "4\n",
      "6\n",
      "8\n",
      "10\n"
     ]
    }
   ],
   "source": [
    "#Example\n",
    "def generate_even_numbers(limit):\n",
    "    num = 0\n",
    "    while num <= limit:\n",
    "        yield num\n",
    "        num += 2\n",
    "        \n",
    "even_generator = generate_even_numbers(10)\n",
    "for num in even_generator:\n",
    "    print(num)\n"
   ]
  },
  {
   "cell_type": "markdown",
   "id": "ff734a1c",
   "metadata": {},
   "source": [
    "5.Create a generator function for prime numbers less than 1000. Use the next() method to print the first 20 prime numbers.\n"
   ]
  },
  {
   "cell_type": "code",
   "execution_count": 18,
   "id": "0ab38cea",
   "metadata": {},
   "outputs": [
    {
     "name": "stdout",
     "output_type": "stream",
     "text": [
      "2\n",
      "3\n",
      "5\n",
      "7\n",
      "11\n",
      "13\n",
      "17\n",
      "19\n",
      "23\n",
      "29\n",
      "31\n",
      "37\n",
      "41\n",
      "43\n",
      "47\n",
      "53\n",
      "59\n",
      "61\n",
      "67\n",
      "71\n"
     ]
    }
   ],
   "source": [
    "def is_prime(num):\n",
    "    if num <= 1:\n",
    "        return False\n",
    "    for i in range(2, int(num**0.5) + 1):\n",
    "        if num % i == 0:\n",
    "            return False\n",
    "    return True\n",
    "\n",
    "def generate_primes():\n",
    "    num = 2\n",
    "    while num < 1000:\n",
    "        if is_prime(num):\n",
    "            yield num\n",
    "        num += 1\n",
    "\n",
    "\n",
    "prime_generator = generate_primes()\n",
    "\n",
    "for _ in range(20):\n",
    "    prime = next(prime_generator)\n",
    "    print(prime)\n"
   ]
  },
  {
   "cell_type": "markdown",
   "id": "8ad916a9",
   "metadata": {},
   "source": [
    "6.Write a python program to print the first 10 Fibonacci numbers using a while loop."
   ]
  },
  {
   "cell_type": "code",
   "execution_count": 19,
   "id": "a001fc73",
   "metadata": {},
   "outputs": [
    {
     "name": "stdout",
     "output_type": "stream",
     "text": [
      "[0, 1, 1, 2, 3, 5, 8, 13, 21, 34]\n"
     ]
    }
   ],
   "source": [
    "def fibonacci_sequence(n):\n",
    "    fib_seq = [0, 1]\n",
    "    while len(fib_seq) < n:\n",
    "        next_num = fib_seq[-1] + fib_seq[-2]\n",
    "        fib_seq.append(next_num)\n",
    "    return fib_seq\n",
    "\n",
    "# Print the first 10 Fibonacci numbers\n",
    "n = 10\n",
    "fib_numbers = fibonacci_sequence(n)\n",
    "print(fib_numbers)\n"
   ]
  },
  {
   "cell_type": "markdown",
   "id": "ec9355ed",
   "metadata": {},
   "source": [
    "7.Write a List Comprehension to iterate through the given string: ‘pwskills’.\n",
    "Expected output: ['p', 'w', 's', 'k', 'i', 'l', 'l', 's']"
   ]
  },
  {
   "cell_type": "code",
   "execution_count": 20,
   "id": "dd9aa644",
   "metadata": {},
   "outputs": [
    {
     "name": "stdout",
     "output_type": "stream",
     "text": [
      "['p', 'w', 'k', 'i']\n"
     ]
    }
   ],
   "source": [
    "given_string = 'pwskills'\n",
    "output_list = [char for char in given_string if given_string.count(char) == 1]\n",
    "print(output_list)\n"
   ]
  },
  {
   "cell_type": "markdown",
   "id": "c2a0bcbd",
   "metadata": {},
   "source": [
    "8.Write a python program to check whether a given number is Palindrome or not using a while loop."
   ]
  },
  {
   "cell_type": "code",
   "execution_count": 22,
   "id": "2916783e",
   "metadata": {},
   "outputs": [
    {
     "name": "stdout",
     "output_type": "stream",
     "text": [
      "Enter a number: 45\n",
      "45 is not a Palindrome.\n"
     ]
    }
   ],
   "source": [
    "def is_palindrome(number):\n",
    "    original_number = number\n",
    "    reversed_number = 0\n",
    "\n",
    "    while number > 0:\n",
    "        digit = number % 10\n",
    "        reversed_number = reversed_number * 10 + digit\n",
    "        number = number // 10\n",
    "\n",
    "    if original_number == reversed_number:\n",
    "        return True\n",
    "    else:\n",
    "        return False\n",
    "\n",
    "# Test the program\n",
    "num = int(input(\"Enter a number: \"))\n",
    "\n",
    "if is_palindrome(num):\n",
    "    print(f\"{num} is a Palindrome.\")\n",
    "else:\n",
    "    print(f\"{num} is not a Palindrome.\")\n"
   ]
  },
  {
   "cell_type": "markdown",
   "id": "11e179a4",
   "metadata": {},
   "source": [
    "9.Write a code to print odd numbers from 1 to 100 using list comprehension."
   ]
  },
  {
   "cell_type": "code",
   "execution_count": 23,
   "id": "afd53455",
   "metadata": {},
   "outputs": [
    {
     "name": "stdout",
     "output_type": "stream",
     "text": [
      "[1, 3, 5, 7, 9, 11, 13, 15, 17, 19, 21, 23, 25, 27, 29, 31, 33, 35, 37, 39, 41, 43, 45, 47, 49, 51, 53, 55, 57, 59, 61, 63, 65, 67, 69, 71, 73, 75, 77, 79, 81, 83, 85, 87, 89, 91, 93, 95, 97, 99]\n"
     ]
    }
   ],
   "source": [
    "odd_numbers = [num for num in range(1, 101) if num % 2 != 0]\n",
    "\n",
    "print(odd_numbers)\n"
   ]
  },
  {
   "cell_type": "code",
   "execution_count": null,
   "id": "4d99e08b",
   "metadata": {},
   "outputs": [],
   "source": []
  }
 ],
 "metadata": {
  "kernelspec": {
   "display_name": "Python 3 (ipykernel)",
   "language": "python",
   "name": "python3"
  },
  "language_info": {
   "codemirror_mode": {
    "name": "ipython",
    "version": 3
   },
   "file_extension": ".py",
   "mimetype": "text/x-python",
   "name": "python",
   "nbconvert_exporter": "python",
   "pygments_lexer": "ipython3",
   "version": "3.9.7"
  }
 },
 "nbformat": 4,
 "nbformat_minor": 5
}
