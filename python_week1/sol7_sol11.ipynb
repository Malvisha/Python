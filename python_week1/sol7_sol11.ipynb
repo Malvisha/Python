{
 "cells": [
  {
   "cell_type": "markdown",
   "id": "6f7fb8f7-6fb6-4c23-9839-f3867ae77bd1",
   "metadata": {},
   "source": [
    "the correct way to declare a variable named age and assign the value 25 to it?\n"
   ]
  },
  {
   "cell_type": "code",
   "execution_count": 1,
   "id": "f3495fa2-a4cf-4e4e-beb5-4ed061d23a54",
   "metadata": {},
   "outputs": [],
   "source": [
    "age = 25"
   ]
  },
  {
   "cell_type": "code",
   "execution_count": 2,
   "id": "f16b962c-2448-4eb9-9b2c-c719fd48e916",
   "metadata": {},
   "outputs": [
    {
     "data": {
      "text/plain": [
       "25"
      ]
     },
     "execution_count": 2,
     "metadata": {},
     "output_type": "execute_result"
    }
   ],
   "source": [
    "age"
   ]
  },
  {
   "cell_type": "markdown",
   "id": "b1022d08-a53c-4b2b-b55b-b0a59353827c",
   "metadata": {},
   "source": [
    "a variable named price and assign the value 9.99 to it and print the data type."
   ]
  },
  {
   "cell_type": "code",
   "execution_count": 3,
   "id": "a1e9a839-1fef-4245-aec0-44aa98a93899",
   "metadata": {},
   "outputs": [],
   "source": [
    "price = 9.99"
   ]
  },
  {
   "cell_type": "code",
   "execution_count": 4,
   "id": "cbd58517-b6b1-4a85-bb2c-5e632c9a1e8b",
   "metadata": {},
   "outputs": [
    {
     "data": {
      "text/plain": [
       "float"
      ]
     },
     "execution_count": 4,
     "metadata": {},
     "output_type": "execute_result"
    }
   ],
   "source": [
    "type(price)"
   ]
  },
  {
   "cell_type": "markdown",
   "id": "b88d2a08-e76b-400e-901f-82ba54ba1a66",
   "metadata": {},
   "source": [
    "a variable named name and assign your full name to it as a string and print."
   ]
  },
  {
   "cell_type": "code",
   "execution_count": 5,
   "id": "90cb1cac-dd33-4ab9-ba66-da905ea6a509",
   "metadata": {},
   "outputs": [],
   "source": [
    "name = \"Malvisha Shah\""
   ]
  },
  {
   "cell_type": "code",
   "execution_count": 6,
   "id": "94b002ba-c44c-4bd5-bead-deeb5c4dd61f",
   "metadata": {},
   "outputs": [
    {
     "data": {
      "text/plain": [
       "'Malvisha Shah'"
      ]
     },
     "execution_count": 6,
     "metadata": {},
     "output_type": "execute_result"
    }
   ],
   "source": [
    "name"
   ]
  },
  {
   "cell_type": "code",
   "execution_count": 8,
   "id": "d39838a1-d895-46cf-9e2a-2bfd68e11b99",
   "metadata": {},
   "outputs": [],
   "source": [
    "s = \"Hello World\""
   ]
  },
  {
   "cell_type": "code",
   "execution_count": 9,
   "id": "7485ee12-0816-4e16-8e37-a69a5d289663",
   "metadata": {},
   "outputs": [
    {
     "data": {
      "text/plain": [
       "'World'"
      ]
     },
     "execution_count": 9,
     "metadata": {},
     "output_type": "execute_result"
    }
   ],
   "source": [
    "s[6:12]"
   ]
  },
  {
   "cell_type": "markdown",
   "id": "569b3e53-c7aa-4579-bc83-0235621684a6",
   "metadata": {},
   "source": [
    "a variable named \"is_student\" and assign it a boolean value and print.\n"
   ]
  },
  {
   "cell_type": "code",
   "execution_count": null,
   "id": "0794cf2e-9656-43f8-85ac-76f43895a43a",
   "metadata": {},
   "outputs": [],
   "source": [
    "is_student ="
   ]
  }
 ],
 "metadata": {
  "kernelspec": {
   "display_name": "Python 3 (ipykernel)",
   "language": "python",
   "name": "python3"
  },
  "language_info": {
   "codemirror_mode": {
    "name": "ipython",
    "version": 3
   },
   "file_extension": ".py",
   "mimetype": "text/x-python",
   "name": "python",
   "nbconvert_exporter": "python",
   "pygments_lexer": "ipython3",
   "version": "3.10.8"
  }
 },
 "nbformat": 4,
 "nbformat_minor": 5
}
