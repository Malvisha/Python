{
 "cells": [
  {
   "cell_type": "markdown",
   "id": "ec04dae8-e08a-4540-9c08-48f1cf2815ed",
   "metadata": {},
   "source": [
    "write and execute a Python script from the command line.\n"
   ]
  },
  {
   "cell_type": "code",
   "execution_count": null,
   "id": "a0f03d44-331a-4d91-a58c-5dfda65b42b9",
   "metadata": {},
   "outputs": [],
   "source": [
    "# open the editor and write the python code."
   ]
  },
  {
   "cell_type": "code",
   "execution_count": null,
   "id": "b4a5846c-e5d8-4bba-95fc-99ba8d5dd624",
   "metadata": {},
   "outputs": [],
   "source": [
    "# save the file with extension. In jupyter file extension we use is ipynb."
   ]
  },
  {
   "cell_type": "code",
   "execution_count": 1,
   "id": "e3c3bd1c-70ce-45b5-90fa-d121b5a3aaf1",
   "metadata": {},
   "outputs": [],
   "source": [
    "# opem command line or terimal."
   ]
  },
  {
   "cell_type": "markdown",
   "id": "bfa171e1-d69a-4dc3-936d-500e110d279b",
   "metadata": {},
   "source": [
    "Navigate to the directory where you saved the Python script using the cd command. For example, if you saved the script in the Documents folder, you would use the following command in the command line:\n",
    "\n",
    "cd desktop"
   ]
  },
  {
   "cell_type": "markdown",
   "id": "4d583742-5034-496b-8120-b47a52cfabdd",
   "metadata": {},
   "source": [
    "Once you are in the correct directory, you can execute the Python script using the python command followed by the name of your script file. \n",
    "example: first_program.ipynb"
   ]
  },
  {
   "cell_type": "markdown",
   "id": "13d87b54-bec9-413c-aa29-b8d73df2cd80",
   "metadata": {},
   "source": [
    "Press Enter to execute the command. The Python script will run, and you will see the output.\n"
   ]
  }
 ],
 "metadata": {
  "kernelspec": {
   "display_name": "Python 3 (ipykernel)",
   "language": "python",
   "name": "python3"
  },
  "language_info": {
   "codemirror_mode": {
    "name": "ipython",
    "version": 3
   },
   "file_extension": ".py",
   "mimetype": "text/x-python",
   "name": "python",
   "nbconvert_exporter": "python",
   "pygments_lexer": "ipython3",
   "version": "3.10.8"
  }
 },
 "nbformat": 4,
 "nbformat_minor": 5
}
