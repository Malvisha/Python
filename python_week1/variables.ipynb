{
 "cells": [
  {
   "cell_type": "markdown",
   "id": "8beeb5c1-988e-460a-af10-ce74ee9d9d44",
   "metadata": {},
   "source": [
    "variables in python\n",
    "\n",
    "variable is like a container that holds a value or a reference to a value. It has a name that you choose, which allows you to refer to the stored data or modify it later in your code."
   ]
  },
  {
   "cell_type": "markdown",
   "id": "9ae65f59-8d86-4445-97fa-3afc06724b0e",
   "metadata": {},
   "source": [
    "In Python, you can create a variable by assigning a value to it using the assignment operator (=)"
   ]
  },
  {
   "cell_type": "code",
   "execution_count": 2,
   "id": "55f7e98f-f416-48e7-8970-6728869699d4",
   "metadata": {},
   "outputs": [],
   "source": [
    "# for example \n",
    "a = 10 "
   ]
  },
  {
   "cell_type": "code",
   "execution_count": 3,
   "id": "e0966d08-6919-46e9-b736-069200295e3c",
   "metadata": {},
   "outputs": [
    {
     "data": {
      "text/plain": [
       "10"
      ]
     },
     "execution_count": 3,
     "metadata": {},
     "output_type": "execute_result"
    }
   ],
   "source": [
    "a # here we assign value 10 to variable. "
   ]
  },
  {
   "cell_type": "raw",
   "id": "96be0e68-6256-48f7-b445-d36c688cc1fb",
   "metadata": {},
   "source": [
    "there some important things we need to remember.\n",
    "\n",
    "1. Avoid using reserved keywords: Python has a set of reserved keywords that have special meanings in the language (e.g., if, for, while, def). You cannot use these keywords as variable names.\n",
    "2. Variable names can only contain letters, numbers, and underscores: Subsequent characters in a variable name can be letters, numbers, or underscores. No other special characters or spaces are allowed.\n",
    "3. Variable names must start with a letter or an underscore (): The first character of a variable name must be a letter (a-z, A-Z) or an underscore (). Python is case-sensitive, so myVariable and myvariable would be considered different variables.\n",
    "\n"
   ]
  },
  {
   "cell_type": "markdown",
   "id": "1e5d63dc-9896-40a7-8641-722dc0de2295",
   "metadata": {},
   "source": [
    "Here are some examples of valid variable names:"
   ]
  },
  {
   "cell_type": "markdown",
   "id": "ca624974-e451-4772-ab34-791a3ec03781",
   "metadata": {},
   "source": [
    "age\n",
    "first_name\n",
    "last_name\n",
    "total_count\n",
    "is_valid\n"
   ]
  },
  {
   "cell_type": "markdown",
   "id": "e93d9fca-f23a-41ef-93c3-851a9a21afd4",
   "metadata": {},
   "source": [
    "And here are some examples of invalid variable names:\n",
    "> 1number (starts with a number)\n",
    "> my-variable (contains a hyphen)\n",
    "> if (reserved keyword)\n",
    "> first name (contains a space)\n"
   ]
  }
 ],
 "metadata": {
  "kernelspec": {
   "display_name": "Python 3 (ipykernel)",
   "language": "python",
   "name": "python3"
  },
  "language_info": {
   "codemirror_mode": {
    "name": "ipython",
    "version": 3
   },
   "file_extension": ".py",
   "mimetype": "text/x-python",
   "name": "python",
   "nbconvert_exporter": "python",
   "pygments_lexer": "ipython3",
   "version": "3.10.8"
  }
 },
 "nbformat": 4,
 "nbformat_minor": 5
}
