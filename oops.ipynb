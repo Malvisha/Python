{
 "cells": [
  {
   "cell_type": "markdown",
   "id": "88e61c79-cc67-4ca7-9d59-f8c2b22f8b3a",
   "metadata": {},
   "source": [
    "create a vehicle class with an init method having instance variables as name_of_vehicle, max_speed\n",
    "and average_of_vehicle."
   ]
  },
  {
   "cell_type": "code",
   "execution_count": 18,
   "id": "fa65c19e-865c-482a-9f29-82a681e7e961",
   "metadata": {},
   "outputs": [],
   "source": [
    "class vehicle:\n",
    "    def __init__(self, name_of_vehicle,max_speed,average_of_vehicle):\n",
    "        self.name_of_vehicle = name_of_vehicle\n",
    "        self.max_speed = max_speed\n",
    "        self.average_of_vehicle = average_of_vehicle\n",
    "    \n",
    "    def return_details(self):\n",
    "        return self.name_of_vehicle,self.max_speed,self.average_of_vehicle"
   ]
  },
  {
   "cell_type": "code",
   "execution_count": 19,
   "id": "8e922a07-48ed-45d0-bb70-11b3a8ae3dfe",
   "metadata": {},
   "outputs": [],
   "source": [
    "obj = vehicle(\"car\",100,10)"
   ]
  },
  {
   "cell_type": "code",
   "execution_count": 20,
   "id": "95992ab6-1fd2-47bb-9bce-616170ee4359",
   "metadata": {},
   "outputs": [
    {
     "data": {
      "text/plain": [
       "('car', 100, 10)"
      ]
     },
     "execution_count": 20,
     "metadata": {},
     "output_type": "execute_result"
    }
   ],
   "source": [
    "obj.return_details()"
   ]
  },
  {
   "cell_type": "markdown",
   "id": "5ebc8123-7552-4d41-a006-dcc3321c661f",
   "metadata": {},
   "source": [
    "obj.max_speed"
   ]
  },
  {
   "cell_type": "markdown",
   "id": "a1b395f7-437e-434e-a012-a15d77ad8d6f",
   "metadata": {},
   "source": [
    "Create a child class car from the vehicle class created above, which will inherit the vehicle class.\n",
    "Create a method named seating_capacity which takes capacity as an argument and returns the name of\n",
    "the vehicle and its seating capacity."
   ]
  },
  {
   "cell_type": "code",
   "execution_count": 54,
   "id": "6673897c-4b88-458e-9709-aa4ea7133c11",
   "metadata": {},
   "outputs": [],
   "source": [
    "class car(vehicle):\n",
    "    def seating_capacity(self,capacity):\n",
    "        self.capacity = capacity\n",
    "        \n",
    "    def return_car_details(self):\n",
    "        return self.capacity\n"
   ]
  },
  {
   "cell_type": "code",
   "execution_count": 55,
   "id": "3f3508cb-b774-49a3-9d79-e23f58bbe3c9",
   "metadata": {},
   "outputs": [],
   "source": [
    "obj1 = car(\"toyota\",1000,500)"
   ]
  },
  {
   "cell_type": "code",
   "execution_count": 56,
   "id": "455e689f-53ab-4418-afc1-9d545db7299f",
   "metadata": {},
   "outputs": [],
   "source": [
    "obj1.seating_capacity(3)"
   ]
  },
  {
   "cell_type": "code",
   "execution_count": 62,
   "id": "b33bf241-3f71-4f31-81bc-89a90cd172fa",
   "metadata": {},
   "outputs": [
    {
     "data": {
      "text/plain": [
       "('toyota', 1000, 500)"
      ]
     },
     "execution_count": 62,
     "metadata": {},
     "output_type": "execute_result"
    }
   ],
   "source": [
    "obj1.return_details()"
   ]
  },
  {
   "cell_type": "code",
   "execution_count": 64,
   "id": "25d20aba-7491-423f-8484-3b8bd8486fba",
   "metadata": {},
   "outputs": [
    {
     "data": {
      "text/plain": [
       "3"
      ]
     },
     "execution_count": 64,
     "metadata": {},
     "output_type": "execute_result"
    }
   ],
   "source": [
    "obj1.return_car_details()"
   ]
  },
  {
   "cell_type": "markdown",
   "id": "3eaa214b-3758-44b4-9ffe-1f51f594eb60",
   "metadata": {},
   "source": [
    "multiple inheritance with exampple."
   ]
  },
  {
   "cell_type": "markdown",
   "id": "4ec93553-6240-45fe-a33d-4dfdbfa662ea",
   "metadata": {},
   "source": [
    "Multiple inheritance is a feature in object-oriented programming where a class can inherit attributes and methods from multiple parent classes. This means that a class can have multiple base classes, allowing it to inherit and combine the features of all those classes."
   ]
  },
  {
   "cell_type": "code",
   "execution_count": null,
   "id": "8ff4bb04-3ace-4ee3-b150-dbd5d0b957e3",
   "metadata": {},
   "outputs": [],
   "source": [
    "# example\n",
    "class student:\n",
    "    def student_details(self):\n",
    "        return \"welocme\""
   ]
  },
  {
   "cell_type": "code",
   "execution_count": null,
   "id": "ff3888ed-fe8b-4eff-97c5-375b0045166e",
   "metadata": {},
   "outputs": [],
   "source": [
    "class subject:\n",
    "    def subject_11(self):\n",
    "        return \"happy programming\""
   ]
  },
  {
   "cell_type": "code",
   "execution_count": null,
   "id": "8c057664-5889-4e54-b026-ec646d10f419",
   "metadata": {},
   "outputs": [],
   "source": [
    "class class_room(student,subject):\n",
    "    pass\n"
   ]
  },
  {
   "cell_type": "code",
   "execution_count": null,
   "id": "443db8bf-d7e1-4e27-89d4-d59af74cadce",
   "metadata": {},
   "outputs": [],
   "source": [
    "obj = class_room()"
   ]
  },
  {
   "cell_type": "code",
   "execution_count": null,
   "id": "6822a3b5-1687-4b4c-ba58-7164f36c3205",
   "metadata": {},
   "outputs": [],
   "source": [
    "obj.student_details()"
   ]
  },
  {
   "cell_type": "markdown",
   "id": "9288ea28-15d0-4ea4-b45e-3ce581c97b3c",
   "metadata": {},
   "source": [
    "getter and setter in python. \n",
    "Create a class and create a getter and a setter method in this\n",
    "class.\n"
   ]
  },
  {
   "cell_type": "markdown",
   "id": "686295ef-1710-41f1-b05a-1f01ed54e48b",
   "metadata": {},
   "source": [
    "In Python, getter and setter methods are used to provide controlled access to the attributes of a class. They allow us to retrieve the values of the attributes (getter) and modify them (setter) using specific methods, instead of directly accessing the attributes.\n",
    "\n"
   ]
  },
  {
   "cell_type": "code",
   "execution_count": 3,
   "id": "6b82016c-be91-4c0a-b790-ded55aa7ca70",
   "metadata": {},
   "outputs": [],
   "source": [
    "# example\n",
    "class car:\n",
    "    \n",
    "    def __init__(self,car_name,speed,year,price):\n",
    "        self.__car_name = car_name\n",
    "        self.__speed=speed\n",
    "        self.__year=year\n",
    "        self.__price=price\n",
    "\n",
    "    def set_speed(self,speed):\n",
    "        self.__speed = 0 if speed < 0 else speed\n",
    "    \n",
    "    def get_speed(self):\n",
    "        return self.__speed"
   ]
  },
  {
   "cell_type": "code",
   "execution_count": 4,
   "id": "7e8c3e41-2600-41ab-bc12-4a266f94dbca",
   "metadata": {},
   "outputs": [],
   "source": [
    "c = car(\"toyota\",1000,2009,100000)"
   ]
  },
  {
   "cell_type": "code",
   "execution_count": 6,
   "id": "931fe3dc-b1df-4c01-86c2-963cd4e57ae0",
   "metadata": {},
   "outputs": [
    {
     "data": {
      "text/plain": [
       "2009"
      ]
     },
     "execution_count": 6,
     "metadata": {},
     "output_type": "execute_result"
    }
   ],
   "source": [
    "c._car__year # _classname__variablename"
   ]
  },
  {
   "cell_type": "code",
   "execution_count": 8,
   "id": "a469d24d-29c6-46d3-bb89-e8a7f8f57e42",
   "metadata": {},
   "outputs": [],
   "source": [
    "c.set_speed(100)"
   ]
  },
  {
   "cell_type": "code",
   "execution_count": 9,
   "id": "71b79421-7b70-4ad5-8500-4b0b5cc3e5d3",
   "metadata": {},
   "outputs": [
    {
     "data": {
      "text/plain": [
       "100"
      ]
     },
     "execution_count": 9,
     "metadata": {},
     "output_type": "execute_result"
    }
   ],
   "source": [
    "c.get_speed()"
   ]
  },
  {
   "cell_type": "markdown",
   "id": "50e50625-5120-48e4-a5ec-c5f366e3469b",
   "metadata": {},
   "source": [
    "method overriding in python. a python code to demonstrate method overriding."
   ]
  },
  {
   "cell_type": "markdown",
   "id": "c1f4ee7e-2948-48a8-a3bf-e5b613953d60",
   "metadata": {},
   "source": [
    "Method overriding in Python refers to the ability of a subclass to provide its own implementation of a method that is already defined in its superclass. When a method in the subclass has the same name as a method in the superclass, the method in the subclass overrides the method in the superclass.\n",
    "\n"
   ]
  },
  {
   "cell_type": "code",
   "execution_count": 12,
   "id": "9c0f1ac8-ba8a-4d3b-9a0b-56eb52d9a9fb",
   "metadata": {},
   "outputs": [],
   "source": [
    "# example\n",
    "class shape:\n",
    "    def __inint__(self,name):\n",
    "        self.name = name\n",
    "        \n",
    "    def area(self):\n",
    "        return self.name\n",
    "        \n",
    "    \n",
    "class rectangle(shape):\n",
    "    def __init__(self,length,width):\n",
    "        self.length = length\n",
    "        self.width = width\n",
    "        \n",
    "    def area(self):\n",
    "        return self.length*self.width\n",
    "        "
   ]
  },
  {
   "cell_type": "code",
   "execution_count": 13,
   "id": "2a26a636-654d-4983-b584-28d74c916e53",
   "metadata": {},
   "outputs": [],
   "source": [
    "a = rectangle(12,34)"
   ]
  },
  {
   "cell_type": "code",
   "execution_count": null,
   "id": "ed83ba57-fcf3-4e44-9bbf-38e02be5f18e",
   "metadata": {},
   "outputs": [],
   "source": []
  }
 ],
 "metadata": {
  "kernelspec": {
   "display_name": "Python 3 (ipykernel)",
   "language": "python",
   "name": "python3"
  },
  "language_info": {
   "codemirror_mode": {
    "name": "ipython",
    "version": 3
   },
   "file_extension": ".py",
   "mimetype": "text/x-python",
   "name": "python",
   "nbconvert_exporter": "python",
   "pygments_lexer": "ipython3",
   "version": "3.10.8"
  }
 },
 "nbformat": 4,
 "nbformat_minor": 5
}
