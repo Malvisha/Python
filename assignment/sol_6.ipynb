{
 "cells": [
  {
   "cell_type": "code",
   "execution_count": 1,
   "id": "7e9a04a4-7e77-4059-b512-55212115e01e",
   "metadata": {},
   "outputs": [],
   "source": [
    "# To find elements divisible by 3."
   ]
  },
  {
   "cell_type": "code",
   "execution_count": 3,
   "id": "58ed7b95-30d2-4180-ad3b-d365a1e3562e",
   "metadata": {},
   "outputs": [
    {
     "ename": "NameError",
     "evalue": "name 'Count' is not defined",
     "output_type": "error",
     "traceback": [
      "\u001b[0;31m---------------------------------------------------------------------------\u001b[0m",
      "\u001b[0;31mNameError\u001b[0m                                 Traceback (most recent call last)",
      "Cell \u001b[0;32mIn[3], line 2\u001b[0m\n\u001b[1;32m      1\u001b[0m numbers \u001b[38;5;241m=\u001b[39m [\u001b[38;5;241m12\u001b[39m,\u001b[38;5;241m13\u001b[39m,\u001b[38;5;241m14\u001b[39m,\u001b[38;5;241m15\u001b[39m,\u001b[38;5;241m16\u001b[39m,\u001b[38;5;241m21\u001b[39m,\u001b[38;5;241m32\u001b[39m,\u001b[38;5;241m43\u001b[39m,\u001b[38;5;241m45\u001b[39m,\u001b[38;5;241m65\u001b[39m,\u001b[38;5;241m54\u001b[39m,\u001b[38;5;241m76\u001b[39m,\u001b[38;5;241m87\u001b[39m,\u001b[38;5;241m98\u001b[39m,\u001b[38;5;241m9\u001b[39m,\u001b[38;5;241m89\u001b[39m,\u001b[38;5;241m67\u001b[39m,\u001b[38;5;241m56\u001b[39m,\u001b[38;5;241m34\u001b[39m,\u001b[38;5;241m23\u001b[39m,\u001b[38;5;241m11\u001b[39m,\u001b[38;5;241m33\u001b[39m,\u001b[38;5;241m55\u001b[39m,\u001b[38;5;241m77\u001b[39m,\u001b[38;5;241m88\u001b[39m]\n\u001b[0;32m----> 2\u001b[0m \u001b[38;5;28mprint\u001b[39m(\u001b[43mCount\u001b[49m(numbers))\n",
      "\u001b[0;31mNameError\u001b[0m: name 'Count' is not defined"
     ]
    }
   ],
   "source": [
    "numbers = [12,13,14,15,16,21,32,43,45,65,54,76,87,98,9,89,67,56,34,23,11,33,55,77,88]\n",
    "for i in numbers:\n",
    "    if i%3=0:\n",
    "        print('divisible by 3')\n",
    "    else:\n",
    "        print('not divisible by "
   ]
  },
  {
   "cell_type": "code",
   "execution_count": null,
   "id": "5a11de8a-1936-427c-96c0-4da8ecc2ac56",
   "metadata": {},
   "outputs": [],
   "source": []
  }
 ],
 "metadata": {
  "kernelspec": {
   "display_name": "Python 3 (ipykernel)",
   "language": "python",
   "name": "python3"
  },
  "language_info": {
   "codemirror_mode": {
    "name": "ipython",
    "version": 3
   },
   "file_extension": ".py",
   "mimetype": "text/x-python",
   "name": "python",
   "nbconvert_exporter": "python",
   "pygments_lexer": "ipython3",
   "version": "3.10.8"
  }
 },
 "nbformat": 4,
 "nbformat_minor": 5
}
