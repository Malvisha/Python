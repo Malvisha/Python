{
 "cells": [
  {
   "cell_type": "code",
   "execution_count": 1,
   "id": "7c756d5c-885b-476f-870f-27c6ef5448e1",
   "metadata": {},
   "outputs": [],
   "source": [
    "# Different data-types."
   ]
  },
  {
   "cell_type": "code",
   "execution_count": 2,
   "id": "95349eb2-f629-45fe-b95b-96a3748f8119",
   "metadata": {},
   "outputs": [],
   "source": [
    "name = 'sparsh'"
   ]
  },
  {
   "cell_type": "code",
   "execution_count": 3,
   "id": "42278d62-0ca3-4eb1-b505-a2a6d74b6ec4",
   "metadata": {},
   "outputs": [
    {
     "data": {
      "text/plain": [
       "str"
      ]
     },
     "execution_count": 3,
     "metadata": {},
     "output_type": "execute_result"
    }
   ],
   "source": [
    "type(name)"
   ]
  },
  {
   "cell_type": "code",
   "execution_count": 9,
   "id": "2f71dca0-78dc-4aa6-ad6a-b40bb845c32a",
   "metadata": {},
   "outputs": [],
   "source": [
    "list_1 = [1,2,3,4, 'ravi', 7 +8j,3.33,True]"
   ]
  },
  {
   "cell_type": "code",
   "execution_count": 10,
   "id": "f65fc5dd-2e22-4c63-a24a-95682a5940a6",
   "metadata": {},
   "outputs": [
    {
     "data": {
      "text/plain": [
       "list"
      ]
     },
     "execution_count": 10,
     "metadata": {},
     "output_type": "execute_result"
    }
   ],
   "source": [
    "type(list_1)"
   ]
  },
  {
   "cell_type": "code",
   "execution_count": 11,
   "id": "10320d94-fd7c-4b38-b936-3ecbde77e1bc",
   "metadata": {},
   "outputs": [],
   "source": [
    "salary = 15000.49"
   ]
  },
  {
   "cell_type": "code",
   "execution_count": 12,
   "id": "9de7118c-4a8d-40be-8da0-bd9b11963c33",
   "metadata": {},
   "outputs": [
    {
     "data": {
      "text/plain": [
       "float"
      ]
     },
     "execution_count": 12,
     "metadata": {},
     "output_type": "execute_result"
    }
   ],
   "source": [
    "type(salary)"
   ]
  },
  {
   "cell_type": "code",
   "execution_count": null,
   "id": "92eae041-ffed-43f6-b376-5e0f0925ffd4",
   "metadata": {},
   "outputs": [],
   "source": [
    "t"
   ]
  }
 ],
 "metadata": {
  "kernelspec": {
   "display_name": "Python 3 (ipykernel)",
   "language": "python",
   "name": "python3"
  },
  "language_info": {
   "codemirror_mode": {
    "name": "ipython",
    "version": 3
   },
   "file_extension": ".py",
   "mimetype": "text/x-python",
   "name": "python",
   "nbconvert_exporter": "python",
   "pygments_lexer": "ipython3",
   "version": "3.10.8"
  }
 },
 "nbformat": 4,
 "nbformat_minor": 5
}
