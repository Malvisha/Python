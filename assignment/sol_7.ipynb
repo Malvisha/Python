{
 "cells": [
  {
   "cell_type": "code",
   "execution_count": 1,
   "id": "a3de0a53-06d4-41ef-9cb9-2bf8f59b570a",
   "metadata": {},
   "outputs": [],
   "source": [
    "# Mutable and Immutable data-types."
   ]
  },
  {
   "cell_type": "code",
   "execution_count": 3,
   "id": "5a50fb08-232f-4aec-91d5-1c69c8368a5c",
   "metadata": {},
   "outputs": [],
   "source": [
    "# Mutable data-types: an object or data structure that can be modified after its creation. \n",
    "#This means that the state or value of a mutable object can be altered during the course of a program.\n",
    "#In other words, mutable objects can have their attributes or properties updated, added, or removed.\n"
   ]
  },
  {
   "cell_type": "code",
   "execution_count": 4,
   "id": "af99bd2f-1e62-4956-a8fe-6f918b101bfd",
   "metadata": {},
   "outputs": [],
   "source": [
    "# example : list.\n",
    "list_1 = [11, 'paras', 8+9j,22.9,True]"
   ]
  },
  {
   "cell_type": "code",
   "execution_count": 5,
   "id": "5eb69ad5-0d25-43a0-a533-a15f00f1a8cd",
   "metadata": {},
   "outputs": [],
   "source": [
    "list_1[2] = 67"
   ]
  },
  {
   "cell_type": "code",
   "execution_count": 6,
   "id": "596fea49-1676-46e0-9002-4bb3c34ba45e",
   "metadata": {},
   "outputs": [
    {
     "name": "stdout",
     "output_type": "stream",
     "text": [
      "[11, 'paras', 67, 22.9, True]\n"
     ]
    }
   ],
   "source": [
    "print(list_1)"
   ]
  },
  {
   "cell_type": "code",
   "execution_count": 8,
   "id": "508d59ce-6a7e-48be-9d48-1f7f422e1c7f",
   "metadata": {},
   "outputs": [],
   "source": [
    "# Immutable data-types: an object or data structure that cannot be modified or changed after it is created. \n",
    "# Once an immutable object is instantiated, its state or value cannot be altered. \n",
    "# This means that any attempt to modify an immutable object will result in creating a new object with the updated value, rather than modifying the existing one."
   ]
  },
  {
   "cell_type": "code",
   "execution_count": 9,
   "id": "3d108bfa-712a-4632-8730-88a49e9dd22f",
   "metadata": {},
   "outputs": [
    {
     "name": "stdout",
     "output_type": "stream",
     "text": [
      "h\n"
     ]
    }
   ],
   "source": [
    "# example : string.\n",
    "name = \"raghav\"\n",
    "print(name[3])"
   ]
  },
  {
   "cell_type": "code",
   "execution_count": 10,
   "id": "92e131c5-9a30-4777-a756-565445af9737",
   "metadata": {},
   "outputs": [
    {
     "ename": "TypeError",
     "evalue": "'str' object does not support item assignment",
     "output_type": "error",
     "traceback": [
      "\u001b[0;31m---------------------------------------------------------------------------\u001b[0m",
      "\u001b[0;31mTypeError\u001b[0m                                 Traceback (most recent call last)",
      "Cell \u001b[0;32mIn[10], line 1\u001b[0m\n\u001b[0;32m----> 1\u001b[0m \u001b[43mname\u001b[49m\u001b[43m[\u001b[49m\u001b[38;5;241;43m3\u001b[39;49m\u001b[43m]\u001b[49m \u001b[38;5;241m=\u001b[39m \u001b[38;5;124m'\u001b[39m\u001b[38;5;124mi\u001b[39m\u001b[38;5;124m'\u001b[39m\n",
      "\u001b[0;31mTypeError\u001b[0m: 'str' object does not support item assignment"
     ]
    }
   ],
   "source": [
    "name[3] = 'i'"
   ]
  },
  {
   "cell_type": "code",
   "execution_count": 11,
   "id": "60a26de8-afd0-4e51-8b85-aba0ff663d8f",
   "metadata": {},
   "outputs": [],
   "source": [
    "name= \"rani\""
   ]
  },
  {
   "cell_type": "code",
   "execution_count": 12,
   "id": "841c90e2-7670-4235-a7e9-10697243a915",
   "metadata": {},
   "outputs": [
    {
     "name": "stdout",
     "output_type": "stream",
     "text": [
      "rani\n"
     ]
    }
   ],
   "source": [
    "print(name)"
   ]
  },
  {
   "cell_type": "code",
   "execution_count": null,
   "id": "cac6a1ec-6578-48c0-87f7-7ae7b3c83fea",
   "metadata": {},
   "outputs": [],
   "source": [
    "# as you see above we cannot change the values at a particular index but can reassign the value to the same variable."
   ]
  }
 ],
 "metadata": {
  "kernelspec": {
   "display_name": "Python 3 (ipykernel)",
   "language": "python",
   "name": "python3"
  },
  "language_info": {
   "codemirror_mode": {
    "name": "ipython",
    "version": 3
   },
   "file_extension": ".py",
   "mimetype": "text/x-python",
   "name": "python",
   "nbconvert_exporter": "python",
   "pygments_lexer": "ipython3",
   "version": "3.10.8"
  }
 },
 "nbformat": 4,
 "nbformat_minor": 5
}
