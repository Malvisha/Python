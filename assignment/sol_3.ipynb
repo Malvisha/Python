{
 "cells": [
  {
   "cell_type": "code",
   "execution_count": 1,
   "id": "46d7d6cd-655d-4c88-a01d-8d38cbdeb63c",
   "metadata": {},
   "outputs": [],
   "source": [
    "# Arithmetic operators in python."
   ]
  },
  {
   "cell_type": "code",
   "execution_count": 2,
   "id": "1261406d-1c41-426c-b8f1-626df3ebff6a",
   "metadata": {},
   "outputs": [],
   "source": [
    "# Division (/): The division operator is used to divide one number by another. The result is always a float.\n"
   ]
  },
  {
   "cell_type": "code",
   "execution_count": 4,
   "id": "c8166e1b-5d16-464f-9db5-26d28d0db078",
   "metadata": {},
   "outputs": [
    {
     "name": "stdout",
     "output_type": "stream",
     "text": [
      "2.0\n"
     ]
    }
   ],
   "source": [
    "a = 10/5\n",
    "print(a)"
   ]
  },
  {
   "cell_type": "code",
   "execution_count": 5,
   "id": "3452d12f-bb32-46d0-960f-a7278c7487af",
   "metadata": {},
   "outputs": [],
   "source": [
    "# Modulo (%): The modulo operator is used to find the remainder of the division of one number by another."
   ]
  },
  {
   "cell_type": "code",
   "execution_count": 6,
   "id": "e89c1e5c-d40d-4ec8-8b33-f454a2d8fdc5",
   "metadata": {},
   "outputs": [
    {
     "name": "stdout",
     "output_type": "stream",
     "text": [
      "0\n"
     ]
    }
   ],
   "source": [
    "b = 10%5\n",
    "print(b)"
   ]
  },
  {
   "cell_type": "code",
   "execution_count": null,
   "id": "a5dda38d-7198-40bc-b438-a51ef4cbfff5",
   "metadata": {},
   "outputs": [],
   "source": [
    "# Floor Division (//): The floor division operator is used to perform division and discard the fractional part, returning an integer result."
   ]
  }
 ],
 "metadata": {
  "kernelspec": {
   "display_name": "Python 3 (ipykernel)",
   "language": "python",
   "name": "python3"
  },
  "language_info": {
   "codemirror_mode": {
    "name": "ipython",
    "version": 3
   },
   "file_extension": ".py",
   "mimetype": "text/x-python",
   "name": "python",
   "nbconvert_exporter": "python",
   "pygments_lexer": "ipython3",
   "version": "3.10.8"
  }
 },
 "nbformat": 4,
 "nbformat_minor": 5
}
