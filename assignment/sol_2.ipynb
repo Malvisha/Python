{
 "cells": [
  {
   "cell_type": "code",
   "execution_count": 2,
   "id": "1b3142bf-1bf7-4873-8cd3-c2128652c386",
   "metadata": {},
   "outputs": [],
   "source": [
    "# To find data-types of assigned variable."
   ]
  },
  {
   "cell_type": "code",
   "execution_count": 4,
   "id": "cf96379b-0335-4d7e-bbc4-e2851cab268a",
   "metadata": {},
   "outputs": [],
   "source": [
    "var1 = ' '\n",
    "var2 = '[ DS , ML , Python]'\n",
    "var3 = [ 'DS' , 'ML' , 'Python' ]\n",
    "var4 = 1"
   ]
  },
  {
   "cell_type": "code",
   "execution_count": 6,
   "id": "00587aec-af83-4d20-b0a3-50750387b6c9",
   "metadata": {},
   "outputs": [
    {
     "data": {
      "text/plain": [
       "str"
      ]
     },
     "execution_count": 6,
     "metadata": {},
     "output_type": "execute_result"
    }
   ],
   "source": [
    "type(var1)\n"
   ]
  },
  {
   "cell_type": "code",
   "execution_count": null,
   "id": "8a661ef1-76ac-4793-8eb6-2936eb24a6e8",
   "metadata": {},
   "outputs": [],
   "source": []
  }
 ],
 "metadata": {
  "kernelspec": {
   "display_name": "Python 3 (ipykernel)",
   "language": "python",
   "name": "python3"
  },
  "language_info": {
   "codemirror_mode": {
    "name": "ipython",
    "version": 3
   },
   "file_extension": ".py",
   "mimetype": "text/x-python",
   "name": "python",
   "nbconvert_exporter": "python",
   "pygments_lexer": "ipython3",
   "version": "3.10.8"
  }
 },
 "nbformat": 4,
 "nbformat_minor": 5
}
