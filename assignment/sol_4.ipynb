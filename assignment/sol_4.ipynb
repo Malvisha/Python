{
 "cells": [
  {
   "cell_type": "code",
   "execution_count": 1,
   "id": "e401561e-4e1d-4461-86ad-2db70405666c",
   "metadata": {},
   "outputs": [],
   "source": [
    "# for loop"
   ]
  },
  {
   "cell_type": "code",
   "execution_count": 2,
   "id": "88437fdf-a420-4f6a-a96a-3e1ac9f5f8f4",
   "metadata": {},
   "outputs": [],
   "source": [
    "data = [18,'ramesh',67.90,True,8+7j,45,'naveen',56.87,False,6+5j]"
   ]
  },
  {
   "cell_type": "code",
   "execution_count": 7,
   "id": "12c8a1a4-1e95-416d-851d-e2e203ac49d3",
   "metadata": {},
   "outputs": [
    {
     "name": "stdout",
     "output_type": "stream",
     "text": [
      "[18, 'ramesh', 67.9, True, (8+7j), 45, 'naveen', 56.87] <class 'int'>\n",
      "[18, 'ramesh', 67.9, True, (8+7j), 45, 'naveen', 56.87] <class 'str'>\n",
      "[18, 'ramesh', 67.9, True, (8+7j), 45, 'naveen', 56.87] <class 'float'>\n",
      "[18, 'ramesh', 67.9, True, (8+7j), 45, 'naveen', 56.87] <class 'bool'>\n",
      "[18, 'ramesh', 67.9, True, (8+7j), 45, 'naveen', 56.87] <class 'complex'>\n",
      "[18, 'ramesh', 67.9, True, (8+7j), 45, 'naveen', 56.87] <class 'int'>\n",
      "[18, 'ramesh', 67.9, True, (8+7j), 45, 'naveen', 56.87] <class 'str'>\n",
      "[18, 'ramesh', 67.9, True, (8+7j), 45, 'naveen', 56.87] <class 'float'>\n"
     ]
    }
   ],
   "source": [
    "for i in data:\n",
    "    print(data, type(i))"
   ]
  },
  {
   "cell_type": "code",
   "execution_count": 8,
   "id": "8bc44e6b-f2cc-4a4c-a2fb-27ca403f9fb1",
   "metadata": {},
   "outputs": [
    {
     "name": "stdout",
     "output_type": "stream",
     "text": [
      "10 <class 'int'>\n",
      "Hello <class 'str'>\n",
      "3.14 <class 'float'>\n",
      "True <class 'bool'>\n",
      "[1, 2, 3] <class 'list'>\n",
      "{'name': 'John', 'age': 25} <class 'dict'>\n",
      "(4, 5, 6) <class 'tuple'>\n",
      "None <class 'NoneType'>\n",
      "False <class 'bool'>\n",
      "A <class 'str'>\n"
     ]
    }
   ],
   "source": [
    "my_list = [10, \"Hello\", 3.14, True, [1, 2, 3], {\"name\": \"John\", \"age\": 25}, (4, 5, 6), None, False, 'A']\n",
    "\n",
    "for element in my_list:\n",
    "    print(element, type(element))\n"
   ]
  },
  {
   "cell_type": "code",
   "execution_count": null,
   "id": "285079a2-4e65-4b0e-aafd-7a1437bf3b65",
   "metadata": {},
   "outputs": [],
   "source": []
  }
 ],
 "metadata": {
  "kernelspec": {
   "display_name": "Python 3 (ipykernel)",
   "language": "python",
   "name": "python3"
  },
  "language_info": {
   "codemirror_mode": {
    "name": "ipython",
    "version": 3
   },
   "file_extension": ".py",
   "mimetype": "text/x-python",
   "name": "python",
   "nbconvert_exporter": "python",
   "pygments_lexer": "ipython3",
   "version": "3.10.8"
  }
 },
 "nbformat": 4,
 "nbformat_minor": 5
}
