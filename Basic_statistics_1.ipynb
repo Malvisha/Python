{
 "cells": [
  {
   "cell_type": "markdown",
   "id": "dd0fe254",
   "metadata": {},
   "source": [
    "1.What are the three measures of central tendency?"
   ]
  },
  {
   "cell_type": "markdown",
   "id": "56c28c2f",
   "metadata": {},
   "source": [
    "The three measures of central tendency are mean, median and mode.\n",
    "\n",
    "Mean: The mean, also known as the average, is calculated by summing up all the values in a data set and then dividing by the number of data points. It represents the central value around which the data points tend to cluster.\n",
    "\n",
    "Median: The median is the middle value of a data set when it is arranged in ascending or descending order. It divides the data into two equal halves, with 50% of the data points falling below and 50% above the median. The median is not affected by extreme values and is useful when dealing with skewed distributions.\n",
    "\n",
    "Mode: The mode is the value that appears most frequently in a data set. It represents the most common observation or category. A data set can have one mode (unimodal), two modes (bimodal), or more than two modes (multimodal)."
   ]
  },
  {
   "cell_type": "markdown",
   "id": "a12cea62",
   "metadata": {},
   "source": [
    "2.What is the difference between the mean, median, and mode? How are they used to measure the central tendency of a dataset?"
   ]
  },
  {
   "cell_type": "markdown",
   "id": "cd663385",
   "metadata": {},
   "source": [
    "The mean, median, and mode are three different measures of central tendency, each serving a unique purpose in summarizing a dataset. They are used to understand where the data tends to center or cluster, and they provide insights into the typical value or central value of the dataset.\n",
    "\n",
    "Mean:\n",
    "\n",
    "Definition: The mean is the sum of all values in the dataset divided by the total number of data points. It is also known as the average.\n",
    "\n",
    "Calculation: Mean = (Sum of all values) / (Number of data points)\n",
    "\n",
    "Use: The mean is widely used and provides a sense of the overall \"average\" value in the dataset. It is sensitive to extreme values or outliers, meaning that even a single extreme value can significantly affect the mean. The mean is best suited for datasets with a symmetrical distribution.\n",
    "\n",
    "Median:\n",
    "\n",
    "Definition: The median is the middle value of the dataset when it is arranged in ascending or descending order. If the dataset has an odd number of data points, the median is the middle value itself. If the dataset has an even number of data points, the median is the average of the two middle values.\n",
    "\n",
    "Use: The median is robust to extreme values and is more appropriate when dealing with skewed datasets or datasets containing outliers. It represents the \"middle\" value in the dataset and divides it into two equal halves. This makes it useful when the distribution is not symmetrical.\n",
    "\n",
    "Mode:\n",
    "\n",
    "Definition: The mode is the value that appears most frequently in the dataset. A dataset may have one mode (unimodal), two modes (bimodal), or more than two modes (multimodal).\n",
    "\n",
    "Use: The mode is especially useful when dealing with categorical or discrete data. It provides information about the most common observation or category in the dataset. For continuous data, the mode is less commonly used compared to the mean and median.\n",
    "\n",
    "In summary, the mean, median, and mode are different measures used to represent the central tendency of a dataset:\n",
    "\n",
    "Mean is used to find the average and is sensitive to extreme values.\n",
    "Median is used to find the middle value and is robust to extreme values and skewed distributions.\n",
    "Mode is used to find the most common observation or category and is particularly useful for categorical or discrete data.\n",
    "When analyzing a dataset, it's essential to consider the characteristics of the data and the potential presence of outliers or skewed distributions to determine which measure of central tendency is most appropriate for interpreting the data accurately.\n"
   ]
  },
  {
   "cell_type": "markdown",
   "id": "6b3e0bf4",
   "metadata": {},
   "source": [
    "3.Measure the three measures of central tendency for the given height data:\n",
    " [178,177,176,177,178.2,178,175,179,180,175,178.9,176.2,177,172.5,178,176.5]"
   ]
  },
  {
   "cell_type": "markdown",
   "id": "145d60ab",
   "metadata": {},
   "source": [
    "Step 1: Calculate the mean:\n",
    "Mean = (178 + 177 + 176 + 177 + 178.2 + 178 + 175 + 179 + 180 + 175 + 178.9 + 176.2 + 177 + 172.5 + 178 + 176.5) / 16\n",
    "Mean = 2826.3 / 16\n",
    "Mean = 176.64\n",
    "\n",
    "Step 2: Calculate the median:\n",
    "First, arrange the data in ascending order:\n",
    "[172.5, 175, 175, 176, 176, 176.2, 176.5, 177, 177, 177, 178, 178, 178, 178.2, 178.9, 179, 180]\n",
    "\n",
    "Since the number of data points is even (16), the median will be the average of the two middle values:\n",
    "Median = (176 + 178) / 2\n",
    "Median = 177\n",
    "\n",
    "Step 3: Calculate the mode:\n",
    "The mode is the value that appears most frequently in the dataset. In this case, there are two values that appear twice: 175, 176, 177, and 178. Therefore, this dataset is bimodal, and both 175 and 176 are modes.\n",
    "\n",
    "So, the three measures of central tendency for the given height data are:\n",
    "Mean = 176.64\n",
    "Median = 177\n",
    "Mode = 175 and 176"
   ]
  },
  {
   "cell_type": "markdown",
   "id": "8f49f00c",
   "metadata": {},
   "source": [
    "4.Find the standard deviation for the given data:\n",
    "\n",
    "[178,177,176,177,178.2,178,175,179,180,175,178.9,176.2,177,172.5,178,176.5]\n",
    "\n"
   ]
  },
  {
   "cell_type": "markdown",
   "id": "f6fc6b6f",
   "metadata": {},
   "source": [
    "Step 1: Calculate the mean:\n",
    "Mean = (178 + 177 + 176 + 177 + 178.2 + 178 + 175 + 179 + 180 + 175 + 178.9 + 176.2 + 177 + 172.5 + 178 + 176.5) / 16\n",
    "Mean = 2826.3 / 16\n",
    "Mean = 176.64\n",
    "\n",
    "Step 2: Subtract the mean from each data point:\n",
    "[178 - 176.64, 177 - 176.64, 176 - 176.64, 177 - 176.64, 178.2 - 176.64, 178 - 176.64, 175 - 176.64, 179 - 176.64, 180 - 176.64, 175 - 176.64, 178.9 - 176.64, 176.2 - 176.64, 177 - 176.64, 172.5 - 176.64, 178 - 176.64, 176.5 - 176.64]\n",
    "\n",
    "Step 2 results: [1.36, 0.36, -0.64, 0.36, 1.56, 1.36, -1.64, 2.36, 3.36, -1.64, 2.26, -0.44, 0.36, -4.14, 1.36, -0.14]\n",
    "\n",
    "Step 3: Square each result obtained in Step 2:\n",
    "[1.85, 0.13, 0.41, 0.13, 2.43, 1.85, 2.69, 5.58, 11.3, 2.69, 5.1, 0.2, 0.13, 17.11, 1.85, 0.02]\n",
    "\n",
    "Step 4: Calculate the mean of the squared differences:\n",
    "Mean of squared differences = (1.85 + 0.13 + 0.41 + 0.13 + 2.43 + 1.85 + 2.69 + 5.58 + 11.3 + 2.69 + 5.1 + 0.2 + 0.13 + 17.11 + 1.85 + 0.02) / 16\n",
    "Mean of squared differences = 49.95125 / 16\n",
    "Mean of squared differences = 3.121953125\n",
    "\n",
    "Step 5: Take the square root of the mean from Step 4:\n",
    "Standard deviation = √(3.121953125)\n",
    "Standard deviation ≈ 1.767\n",
    "\n",
    "So, the standard deviation for the given data is approximately 1.767."
   ]
  },
  {
   "cell_type": "markdown",
   "id": "82e65c65",
   "metadata": {},
   "source": [
    "5.How are measures of dispersion such as range, variance, and standard deviation used to describethe spread of a dataset? Provide an example."
   ]
  },
  {
   "cell_type": "markdown",
   "id": "1fa3a284",
   "metadata": {},
   "source": [
    "Measures of dispersion, such as range, variance, and standard deviation, are used to quantify and describe the spread or variability of a dataset. \n",
    "\n",
    "Range:\n",
    "Definition: The range is the simplest measure of dispersion and is calculated by subtracting the minimum value from the maximum value in the dataset.\n",
    "\n",
    "Use: The range gives a rough estimate of the spread of data by showing the difference between the highest and lowest values. However, it is sensitive to extreme values and may not represent the overall variability well.\n",
    "\n",
    "Example: Consider the following dataset of exam scores: [78, 85, 90, 92, 96, 55]. The range would be calculated as follows: Range = 96 (maximum) - 55 (minimum) = 41. The range indicates that the scores vary by 41 points, with the lowest score being 55 and the highest score being 96.\n",
    "\n",
    "Variance:\n",
    "Definition: Variance is the average of the squared differences between each data point and the mean of the dataset. It measures the average amount by which each data point deviates from the mean.\n",
    "\n",
    "Use: Variance provides a more comprehensive understanding of the spread of data than the range. However, since it involves squaring the differences, it is not in the original unit of the data, making it less interpretable.\n",
    "\n",
    "Example: Using the same exam scores dataset, we calculate the variance as follows:\n",
    "\n",
    "Step 1: Calculate the mean:\n",
    "Mean = (78 + 85 + 90 + 92 + 96 + 55) / 6 = 81.67\n",
    "\n",
    "Step 2: Calculate the squared differences between each data point and the mean:\n",
    "Squared differences: [(78-81.67)^2, (85-81.67)^2, (90-81.67)^2, (92-81.67)^2, (96-81.67)^2, (55-81.67)^2] = [13.99, 11.22, 69.02, 130.88, 207.07, 680.71]\n",
    "\n",
    "Step 3: Calculate the average of the squared differences (variance):\n",
    "Variance = (13.99 + 11.22 + 69.02 + 130.88 + 207.07 + 680.71) / 6 ≈ 171.98\n",
    "\n",
    "Standard Deviation:\n",
    "Definition: The standard deviation is the square root of the variance. It represents the typical or average amount of deviation from the mean in the original unit of the data.\n",
    "\n",
    "Use: Standard deviation is the most commonly used measure of dispersion. It helps to quantify the spread of data and gives an idea of how much individual data points deviate from the mean.\n",
    "Example (Continued): To find the standard deviation, take the square root of the variance we calculated earlier:\n",
    "Standard Deviation ≈ √171.98 ≈ 13.11\n",
    "\n",
    "The standard deviation of the exam scores is approximately 13.11. It indicates that, on average, the individual exam scores deviate from the mean score by around 13.11 points, giving a better understanding of the spread of the data compared to the range.\n",
    "\n"
   ]
  },
  {
   "cell_type": "markdown",
   "id": "809cfeb4",
   "metadata": {},
   "source": [
    "6.What is a Venn diagram?"
   ]
  },
  {
   "cell_type": "markdown",
   "id": "80bad99b",
   "metadata": {},
   "source": [
    "A Venn diagram is a graphical representation that uses circles or other closed shapes to illustrate the relationships between different sets of items or groups. It was first introduced by the British mathematician John Venn in the late 19th century. Venn diagrams are commonly used in mathematics, logic, statistics, and various fields to visualize the intersections and differences between different sets.\n",
    "\n",
    "The main components of a Venn diagram are circles (or closed shapes) that represent individual sets. The circles are often overlapped or placed in proximity to show relationships between the sets. Each circle corresponds to a particular set, and the overlapping areas represent the elements that belong to multiple sets.\n",
    "\n",
    "Key features of a Venn diagram:\n",
    "\n",
    "Sets: Each circle in the Venn diagram represents a specific set of items or elements.\n",
    "\n",
    "Overlapping areas: The overlapping regions indicate the intersection of two or more sets, showing the elements that are common to those sets.\n",
    "\n",
    "Non-overlapping areas: The non-overlapping regions represent the elements that are unique to each set, not shared with any other sets.\n",
    "\n"
   ]
  },
  {
   "cell_type": "markdown",
   "id": "d732b7cb",
   "metadata": {},
   "source": [
    "7.For the two given sets A = (2,3,4,5,6,7) & B = (0,2,6,8,10). Find:\n",
    "\n",
    "(i) a intersection b = {2,6}\n",
    "\n",
    "(ii) A ⋃ B = {0,2,3,4,5,6,7,8,10)"
   ]
  },
  {
   "cell_type": "markdown",
   "id": "2db94842",
   "metadata": {},
   "source": [
    "8.What do you understand about skewness in data?"
   ]
  },
  {
   "cell_type": "markdown",
   "id": "e75ffde2",
   "metadata": {},
   "source": [
    "Skewness in data refers to the asymmetry or lack of symmetry in the distribution of data points in a dataset. In a perfectly symmetrical distribution, the data points are evenly distributed around the central value, and the left and right sides of the distribution mirror each other. However, in a skewed distribution, the data points tend to be concentrated on one side more than the other, resulting in a longer tail on one side of the distribution.\n",
    "\n",
    "Skewness is an essential concept in statistics and data analysis as it provides insights into the shape and characteristics of a dataset. There are three types of skewness:\n",
    "\n",
    "Positive Skewness (Right Skewness):\n",
    "\n",
    "In a positively skewed distribution, the tail of the distribution extends towards the right side.\n",
    "The majority of the data points are concentrated on the left side, while the right side contains a few extreme values or outliers.\n",
    "The mean tends to be greater than the median in a positively skewed distribution because the presence of the higher extreme values pulls the mean towards the right.\n",
    "An example of positively skewed data might be the income distribution of a population, where a few high-income individuals pull the mean income upward.\n",
    "\n",
    "Negative Skewness (Left Skewness):\n",
    "\n",
    "In a negatively skewed distribution, the tail of the distribution extends towards the left side.\n",
    "The majority of the data points are concentrated on the right side, while the left side contains a few extreme values or outliers.\n",
    "The mean tends to be less than the median in a negatively skewed distribution because the presence of lower extreme values pulls the mean towards the left.\n",
    "An example of negatively skewed data might be the response times for a particular task, where most of the response times are short, but a few extremely long response times cause the negative skew.\n",
    "Zero Skewness:\n",
    "A dataset is considered to have zero skewness if it is perfectly symmetrical, with equal frequencies of data points on both sides of the central value.\n",
    "In this case, the mean and median are equal.\n"
   ]
  },
  {
   "cell_type": "markdown",
   "id": "1bcea0bc",
   "metadata": {},
   "source": [
    "9.If a data is right skewed then what will be the position of median with respect to mean?"
   ]
  },
  {
   "cell_type": "markdown",
   "id": "6d381b54",
   "metadata": {},
   "source": [
    "If a data distribution is right-skewed (positively skewed), it means that the tail of the distribution extends towards the right side, and there are relatively more extreme values on the higher end of the scale. In this scenario, the mean tends to be greater than the median.\n",
    "\n"
   ]
  },
  {
   "cell_type": "markdown",
   "id": "622a484d",
   "metadata": {},
   "source": [
    "10.Explain the difference between covariance and correlation. How are these measures used in\n",
    "statistical analysis?"
   ]
  },
  {
   "cell_type": "markdown",
   "id": "8edb889c",
   "metadata": {},
   "source": [
    "Covariance:\n",
    "Covariance measures the degree of joint variability between two random variables. It indicates whether the two variables tend to vary together (positive covariance) or vary in opposite directions (negative covariance).\n",
    "Mathematically, the covariance between two variables X and Y is calculated as the average of the products of the differences between each variable and their respective means.\n",
    "The formula for covariance of X and Y is: Cov(X, Y) = Σ [(Xᵢ - mean(X)) * (Yᵢ - mean(Y))] / n, where Σ represents the sum of all data points, Xᵢ and Yᵢ are individual data points, and n is the number of data points.\n",
    "\n",
    "Correlation:\n",
    "Correlation is a standardized measure of the relationship between two variables. It provides a unitless value between -1 and 1, indicating the strength and direction of the linear relationship between the variables.\n",
    "The correlation coefficient ranges from -1 (perfect negative correlation) to 1 (perfect positive correlation), with 0 indicating no linear correlation.\n",
    "Mathematically, the correlation between X and Y is calculated by dividing the covariance of X and Y by the product of their individual standard deviations.\n",
    "The formula for correlation between X and Y is: Corr(X, Y) = Cov(X, Y) / (σ(X) * σ(Y)), where Cov(X, Y) is the covariance, and σ(X) and σ(Y) are the standard deviations of X and Y, respectively.\n",
    "\n",
    "Key differences:\n",
    "\n",
    "Covariance is not standardized and depends on the units of the variables, while correlation is standardized and independent of the units.\n",
    "Covariance can take any value, positive or negative, depending on the direction of the relationship, while correlation is always between -1 and 1, indicating the strength and direction of the linear relationship.\n",
    "Correlation is a more informative measure in comparing the strength of relationships between different pairs of variables, as it provides a consistent scale of measurement.\n",
    "Usage in statistical analysis:\n",
    "\n",
    "Covariance and correlation are used to understand the relationship between two variables in a dataset. Positive covariance or correlation indicates that the variables tend to increase or decrease together, while negative covariance or correlation indicates an inverse relationship.\n",
    "Correlation is particularly useful when comparing datasets with different units or scales, as it standardizes the measure and makes comparisons more meaningful.\n",
    "Both covariance and correlation are used in fields like finance, economics, social sciences, and data analysis to identify patterns, assess the strength of relationships, and inform decision-making processes.\n",
    "\n",
    "\n",
    "\n",
    "\n"
   ]
  },
  {
   "cell_type": "markdown",
   "id": "7018dc98",
   "metadata": {},
   "source": [
    "11.What is the formula for calculating the sample mean? Provide an example calculation for a\n",
    "dataset."
   ]
  },
  {
   "cell_type": "markdown",
   "id": "9198aa99",
   "metadata": {},
   "source": [
    "Sample Mean (X̄) = (Sum of all data points) / (Number of data points)"
   ]
  },
  {
   "cell_type": "markdown",
   "id": "b9eb9118",
   "metadata": {},
   "source": [
    "12.For a normal distribution data what is the relationship between its measure of central tendency?"
   ]
  },
  {
   "cell_type": "markdown",
   "id": "3495936b",
   "metadata": {},
   "source": [
    "For a normal distribution, the three measures of central tendency (mean, median, and mode) have an interesting relationship:\n",
    "\n",
    "Mean: In a normal distribution, the mean is equal to the median. This is one of the defining characteristics of a normal distribution. The symmetric nature of the normal distribution ensures that the mean and median are at the exact center of the distribution.\n",
    "\n",
    "Median: As mentioned above, the median is equal to the mean in a normal distribution. This implies that the middle value of the data coincides with the average value.\n",
    "\n",
    "Mode: In a normal distribution, the mode also coincides with the mean and the median. Since the normal distribution is symmetric, there is no specific value that occurs more frequently than others, making the mode the same as the mean and median.\n",
    "\n",
    "In summary, for a normal distribution:\n",
    "\n",
    "Mean = Median = Mode"
   ]
  },
  {
   "cell_type": "markdown",
   "id": "f22c9983",
   "metadata": {},
   "source": [
    "13.How is covariance different from correlation?"
   ]
  },
  {
   "cell_type": "markdown",
   "id": "23563cd9",
   "metadata": {},
   "source": [
    "Covariance measures the joint variability between two variables and is not standardized, making it difficult to compare relationships between different datasets.\n",
    "Correlation is a standardized measure that provides a consistent scale for comparing the strength and direction of the relationship between two variables, making it more informative and easier to interpret. It is a preferred measure for assessing the strength of linear relationships.\n",
    "\n",
    "\n",
    "\n"
   ]
  },
  {
   "cell_type": "markdown",
   "id": "770aaf01",
   "metadata": {},
   "source": [
    "14.How do outliers affect measures of central tendency and dispersion? Provide an example."
   ]
  },
  {
   "cell_type": "markdown",
   "id": "e4c06e30",
   "metadata": {},
   "source": [
    "Outliers can significantly impact measures of central tendency and dispersion in a dataset. An outlier is a data point that lies far away from the bulk of the data, often much higher or lower than the rest of the data points. When calculating measures of central tendency and dispersion, outliers can distort the results and provide a misleading representation of the data's true characteristics.\n",
    "\n",
    "Measures of Central Tendency:\n",
    "a. Mean: Outliers can pull the mean towards their extreme values. If there are outliers with much higher or lower values than the rest of the data, the mean will be affected and may not represent the typical or average value accurately.\n",
    "\n",
    "b. Median: The median is less influenced by outliers since it only considers the middle value(s) in the data when arranged in ascending or descending order. Outliers will have little impact on the median if they are few and their extreme values are not similar.\n",
    "\n",
    "c. Mode: The mode is not significantly affected by outliers, as it represents the most frequently occurring value(s) in the dataset, regardless of extreme values.\n",
    "\n",
    "Measures of Dispersion:\n",
    "a. Range: Outliers can substantially affect the range, as it is the difference between the maximum and minimum values. If there are outliers with very high or low values, the range will be inflated, and it may not accurately represent the spread of the majority of the data.\n",
    "\n",
    "b. Variance and Standard Deviation: Outliers can greatly influence the variance and standard deviation, as these measures involve squaring the differences between each data point and the mean. Outliers with extreme values can significantly increase the squared differences and lead to higher variance and standard deviation, exaggerating the data's spread.\n",
    "\n",
    "Example:\n",
    "\n",
    "Consider the following dataset representing the heights (in centimeters) of ten individuals, including an outlier:\n",
    "\n",
    "[155, 160, 165, 170, 175, 180, 185, 190, 195, 300]\n",
    "\n",
    "Measures of Central Tendency:\n",
    "\n",
    "Mean: The sum of all heights is 1975. The mean will be 1975 / 10 = 197.5. The outlier (300) significantly influences the mean, making it much higher than the typical height in the dataset.\n",
    "\n",
    "Median: The median is the middle value in the dataset, which is 180 in this case. The outlier (300) does not affect the median as it is one data point and does not disturb the central value.\n",
    "\n",
    "Mode: There is no mode in this dataset, as each height appears only once. The outlier does not affect the mode.\n",
    "\n",
    "Measures of Dispersion:\n",
    "\n",
    "Range: The range is the difference between the maximum and minimum heights. The range is 300 - 155 = 145. The outlier (300) significantly inflates the range compared to the rest of the data.\n",
    "\n",
    "Variance and Standard Deviation: Calculating these measures requires finding the mean first:\n",
    "\n",
    "Mean = 1975 / 10 = 197.5\n",
    "\n",
    "Variance = [(155 - 197.5)^2 + (160 - 197.5)^2 + ... + (300 - 197.5)^2] / 10\n",
    "Variance ≈ 2137.5\n",
    "\n",
    "Standard Deviation = √2137.5 ≈ 46.22\n",
    "\n",
    "The outlier (300) significantly impacts the variance and standard deviation, making them higher than they would be without the outlier.\n",
    "\n",
    "In this example, the outlier with a height of 300 influences the measures of central tendency (mean) and measures of dispersion (range, variance, and standard deviation), causing them to be biased and not fully representative of the majority of the data. This demonstrates how outliers can distort our understanding of the dataset and highlights the importance of identifying and handling outliers appropriately in data analysis.\n",
    "\n",
    "\n",
    "\n",
    "\n"
   ]
  },
  {
   "cell_type": "code",
   "execution_count": null,
   "id": "61d3b13d",
   "metadata": {},
   "outputs": [],
   "source": []
  }
 ],
 "metadata": {
  "kernelspec": {
   "display_name": "Python 3 (ipykernel)",
   "language": "python",
   "name": "python3"
  },
  "language_info": {
   "codemirror_mode": {
    "name": "ipython",
    "version": 3
   },
   "file_extension": ".py",
   "mimetype": "text/x-python",
   "name": "python",
   "nbconvert_exporter": "python",
   "pygments_lexer": "ipython3",
   "version": "3.9.7"
  }
 },
 "nbformat": 4,
 "nbformat_minor": 5
}
