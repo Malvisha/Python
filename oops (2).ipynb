{
 "cells": [
  {
   "cell_type": "markdown",
   "id": "e1109dc5",
   "metadata": {},
   "source": [
    "1.Explain Class and Object with respect to Object-Oriented Programming. Give a suitable example.\n",
    "\n",
    "A class is a blueprint or template that defines the structure and behavior of objects. It serves as a blueprint for creating objects of that particular type. A class encapsulates data (in the form of attributes) and behavior (in the form of methods) related to a specific concept or entity."
   ]
  },
  {
   "cell_type": "markdown",
   "id": "601d2e90",
   "metadata": {},
   "source": [
    "here's an example of defining a simple class in python."
   ]
  },
  {
   "cell_type": "code",
   "execution_count": 10,
   "id": "546808d0",
   "metadata": {},
   "outputs": [],
   "source": [
    "class car:\n",
    "    def __init__(self,model,year):\n",
    "        self.model = model\n",
    "        self.year = year\n",
    "        \n",
    "    def return_car_details(self):\n",
    "        return self.model,self.year\n",
    "        "
   ]
  },
  {
   "cell_type": "markdown",
   "id": "7f3bf0b1",
   "metadata": {},
   "source": [
    "To create an object (instance) of the Car class, we can instantiate it by calling the class as if it were a function:\n",
    "\n"
   ]
  },
  {
   "cell_type": "code",
   "execution_count": 11,
   "id": "cc706a9a",
   "metadata": {},
   "outputs": [],
   "source": [
    "my_car = car(\"toyota\",2012)"
   ]
  },
  {
   "cell_type": "code",
   "execution_count": 12,
   "id": "e534b2ea",
   "metadata": {},
   "outputs": [
    {
     "data": {
      "text/plain": [
       "('toyota', 2012)"
      ]
     },
     "execution_count": 12,
     "metadata": {},
     "output_type": "execute_result"
    }
   ],
   "source": [
    "my_car.return_car_details()"
   ]
  },
  {
   "cell_type": "code",
   "execution_count": 13,
   "id": "0f2784e9",
   "metadata": {},
   "outputs": [
    {
     "data": {
      "text/plain": [
       "'toyota'"
      ]
     },
     "execution_count": 13,
     "metadata": {},
     "output_type": "execute_result"
    }
   ],
   "source": [
    "my_car.model"
   ]
  },
  {
   "cell_type": "code",
   "execution_count": 14,
   "id": "64358c3f",
   "metadata": {},
   "outputs": [
    {
     "data": {
      "text/plain": [
       "2012"
      ]
     },
     "execution_count": 14,
     "metadata": {},
     "output_type": "execute_result"
    }
   ],
   "source": [
    "my_car.year"
   ]
  },
  {
   "cell_type": "markdown",
   "id": "7a695b00",
   "metadata": {},
   "source": [
    "we can make multiplt objects and through that object we can access the class members and functions."
   ]
  },
  {
   "cell_type": "markdown",
   "id": "bdae0664",
   "metadata": {},
   "source": [
    "2.Name the four pillars of OOPs.\n",
    "\n",
    "The four pillars of oops are encapsulation, polymorphism, inheritance and abstraction.\n",
    "\n",
    "Encapsulation: Encapsulation is the process of bundling data (attributes) and the methods (behavior) that operate on that data within a single unit called a class. It provides data hiding and abstraction by defining access modifiers (public, private, protected) to control the visibility and accessibility of attributes and methods. Encapsulation helps in organizing code, reducing complexity, and improving security and maintainability.\n",
    "\n",
    "Inheritance: Inheritance is the mechanism by which one class inherits the properties (attributes and methods) of another class. It allows the creation of a hierarchical relationship between classes, where a derived class (subclass) can inherit and extend the functionality of a base class (superclass). Inheritance promotes code reuse, modularity, and extensibility, as well as supports the concept of \"is-a\" relationship.\n",
    "\n",
    "Polymorphism: Polymorphism means the ability of objects of different classes to respond to the same message or method invocation in different ways. It allows objects of different classes to be treated as objects of a common base class, providing a flexible and interchangeable behavior. Polymorphism is achieved through method overriding (redefining a method in a derived class) and method overloading (defining multiple methods with the same name but different parameters). Polymorphism promotes code flexibility, modularity, and extensibility.\n",
    "\n",
    "Abstraction: Abstraction refers to the process of representing complex real-world entities or concepts in a simplified and more manageable form. It allows us to focus on essential features while hiding unnecessary details. Abstraction in OOP involves defining abstract classes and abstract methods that provide a common interface without specifying the implementation. Abstract classes cannot be instantiated and serve as blueprints for derived classes. Abstraction helps in reducing complexity, enhancing modularity, and promoting code reusability.\n",
    "\n",
    "\n",
    "\n",
    "    \n",
    "    "
   ]
  },
  {
   "cell_type": "markdown",
   "id": "a5893a44",
   "metadata": {},
   "source": [
    "3.Explain why the __init__() function is used. Give a suitable example.\n",
    "\n",
    "The __init__() function is a special method in Python classes that is used for initializing the attributes of an object when it is created. It stands for \"initialize\" and is also known as the constructor.\n",
    "The primary purpose of the __init__() function is to set up the initial state of an object by assigning values to its attributes. It is called automatically when an object is created from a class, and it allows you to provide initial values for the object's attributes.\n",
    "\n"
   ]
  },
  {
   "cell_type": "markdown",
   "id": "3a71174a",
   "metadata": {},
   "source": [
    "4.Why self is used in OOPs?\n",
    "\n",
    "In object-oriented programming (OOP), self is a convention used to refer to the instance of a class within the class methods. It is a parameter that represents the object itself and is used to access the attributes and methods of that object.\n",
    "\n",
    "\n"
   ]
  },
  {
   "cell_type": "markdown",
   "id": "7d3ded13",
   "metadata": {},
   "source": [
    "5.What is inheritance? Give an example for each type of inheritance.\n",
    "\n",
    "Inheritance is a fundamental concept in object-oriented programming (OOP) that allows a class to inherit properties (attributes and methods) from another class. The class that inherits is called the derived class or subclass, and the class from which it inherits is called the base class or superclass.\n",
    "\n",
    "There are five different types of inheritance:\n",
    "[1] single inheritance\n",
    "[2] multiple inheritance\n",
    "[3] multi-level inheritance\n",
    "[4] hierarchical inheritance\n",
    "[5] hybrid inheritance\n",
    "\n"
   ]
  },
  {
   "cell_type": "code",
   "execution_count": 36,
   "id": "4033a15b",
   "metadata": {},
   "outputs": [],
   "source": [
    "# Single Inheritance : Single inheritance involves a derived class inheriting properties from a single base class.\n",
    "#Example:\n",
    "\n",
    "class greeting:\n",
    "    def test(self):\n",
    "        return \"good morning\"\n",
    "    \n",
    "class wishes(greeting):\n",
    "    def test1(self):\n",
    "        return \"Happy birthday\""
   ]
  },
  {
   "cell_type": "code",
   "execution_count": 38,
   "id": "96ce23c6",
   "metadata": {},
   "outputs": [],
   "source": [
    "obj = wishes()"
   ]
  },
  {
   "cell_type": "code",
   "execution_count": 39,
   "id": "49715952",
   "metadata": {},
   "outputs": [
    {
     "data": {
      "text/plain": [
       "'Happy birthday'"
      ]
     },
     "execution_count": 39,
     "metadata": {},
     "output_type": "execute_result"
    }
   ],
   "source": [
    "obj.test1()"
   ]
  },
  {
   "cell_type": "code",
   "execution_count": 40,
   "id": "c2f7ec14",
   "metadata": {},
   "outputs": [
    {
     "data": {
      "text/plain": [
       "'good morning'"
      ]
     },
     "execution_count": 40,
     "metadata": {},
     "output_type": "execute_result"
    }
   ],
   "source": [
    "obj.test()"
   ]
  },
  {
   "cell_type": "code",
   "execution_count": 41,
   "id": "f52f7e35",
   "metadata": {},
   "outputs": [],
   "source": [
    "# Multiple Inheritance: Multiple inheritance allows a derived class to inherit properties from multiple base classes.\n",
    "# Example:\n",
    "\n",
    "class Animal:\n",
    "    def breathe(self):\n",
    "        print(\"Breathing...\")\n",
    "\n",
    "class Mammal:\n",
    "    def feed_milk(self):\n",
    "        print(\"Feeding milk...\")\n",
    "\n",
    "class Dog(Animal, Mammal):\n",
    "    def bark(self):\n",
    "        print(\"Barking...\")\n"
   ]
  },
  {
   "cell_type": "code",
   "execution_count": 42,
   "id": "c495d175",
   "metadata": {},
   "outputs": [],
   "source": [
    "obj1 = Dog()"
   ]
  },
  {
   "cell_type": "code",
   "execution_count": 47,
   "id": "025e0638",
   "metadata": {},
   "outputs": [
    {
     "name": "stdout",
     "output_type": "stream",
     "text": [
      "Barking...\n"
     ]
    }
   ],
   "source": [
    "obj1.bark()"
   ]
  },
  {
   "cell_type": "code",
   "execution_count": 46,
   "id": "9f787b33",
   "metadata": {},
   "outputs": [
    {
     "name": "stdout",
     "output_type": "stream",
     "text": [
      "Feeding milk...\n"
     ]
    }
   ],
   "source": [
    "obj1.feed_milk()"
   ]
  },
  {
   "cell_type": "code",
   "execution_count": 45,
   "id": "95c73d5e",
   "metadata": {},
   "outputs": [
    {
     "name": "stdout",
     "output_type": "stream",
     "text": [
      "Breathing...\n"
     ]
    }
   ],
   "source": [
    "obj1.breathe()"
   ]
  },
  {
   "cell_type": "code",
   "execution_count": 48,
   "id": "5850172e",
   "metadata": {},
   "outputs": [],
   "source": [
    "# Multilevel Inheritance: Multilevel inheritance involves a derived class inheriting properties from a base class, which itself inherits from another base class.\n",
    "# Example:\n",
    "\n",
    "class Animal:\n",
    "    def breathe(self):\n",
    "        print(\"Breathing...\")\n",
    "\n",
    "class Mammal(Animal):\n",
    "    def feed_milk(self):\n",
    "        print(\"Feeding milk...\")\n",
    "\n",
    "class Dog(Mammal):\n",
    "    def bark(self):\n",
    "        print(\"Barking...\")\n"
   ]
  },
  {
   "cell_type": "code",
   "execution_count": 49,
   "id": "2274f479",
   "metadata": {},
   "outputs": [],
   "source": [
    "obj3 = Dog()"
   ]
  },
  {
   "cell_type": "code",
   "execution_count": 50,
   "id": "7b0179ff",
   "metadata": {},
   "outputs": [
    {
     "name": "stdout",
     "output_type": "stream",
     "text": [
      "Barking...\n"
     ]
    }
   ],
   "source": [
    "obj3.bark()"
   ]
  },
  {
   "cell_type": "code",
   "execution_count": 51,
   "id": "773b1248",
   "metadata": {},
   "outputs": [
    {
     "name": "stdout",
     "output_type": "stream",
     "text": [
      "Feeding milk...\n"
     ]
    }
   ],
   "source": [
    "obj3.feed_milk()"
   ]
  },
  {
   "cell_type": "code",
   "execution_count": 53,
   "id": "3f1d4c9b",
   "metadata": {},
   "outputs": [
    {
     "name": "stdout",
     "output_type": "stream",
     "text": [
      "Breathing...\n"
     ]
    }
   ],
   "source": [
    "obj3.breathe()"
   ]
  },
  {
   "cell_type": "code",
   "execution_count": 54,
   "id": "e1fffb14",
   "metadata": {},
   "outputs": [],
   "source": [
    "# Hierarchical Inheritance: Hierarchical inheritance involves multiple derived classes inheriting properties from a single base class.\n",
    "# Example:\n",
    "\n",
    "class Vehicle:\n",
    "    def drive(self):\n",
    "        print(\"Driving...\")\n",
    "\n",
    "class Car(Vehicle):\n",
    "    def honk(self):\n",
    "        print(\"Honking...\")\n",
    "\n",
    "class Bike(Vehicle):\n",
    "    def bell_ring(self):\n",
    "        print(\"Ring ring...\")\n",
    "\n"
   ]
  },
  {
   "cell_type": "code",
   "execution_count": 56,
   "id": "ab860bcc",
   "metadata": {},
   "outputs": [
    {
     "name": "stdout",
     "output_type": "stream",
     "text": [
      "Driving...\n",
      "Honking...\n",
      "Driving...\n",
      "Ring ring...\n"
     ]
    }
   ],
   "source": [
    "car = Car()\n",
    "car.drive()       \n",
    "car.honk()        \n",
    "\n",
    "bike = Bike()\n",
    "bike.drive()      \n",
    "bike.bell_ring()  \n"
   ]
  },
  {
   "cell_type": "code",
   "execution_count": 57,
   "id": "26d37d43",
   "metadata": {},
   "outputs": [],
   "source": [
    "# Hybrid Inheritance: Hybrid inheritance refers to a combination of multiple types of inheritance, such as single and multiple inheritance.\n",
    "#Example:\n",
    "\n",
    "class Animal:\n",
    "    def breathe(self):\n",
    "        print(\"Breathing...\")\n",
    "\n",
    "class Mammal(Animal):\n",
    "    def feed_milk(self):\n",
    "        print(\"Feeding milk...\")\n",
    "\n",
    "class FlyingAnimal:\n",
    "    def fly(self):\n",
    "        print(\"Flying...\")\n",
    "\n",
    "class Bat(Mammal, FlyingAnimal):\n",
    "    def echo_location(self):\n",
    "        print(\"Using echolocation...\")\n",
    "\n",
    "\n"
   ]
  },
  {
   "cell_type": "code",
   "execution_count": 59,
   "id": "26c4a469",
   "metadata": {},
   "outputs": [
    {
     "name": "stdout",
     "output_type": "stream",
     "text": [
      "Breathing...\n",
      "Feeding milk...\n",
      "Flying...\n",
      "Using echolocation...\n"
     ]
    }
   ],
   "source": [
    "bat = Bat()\n",
    "bat.breathe()          \n",
    "bat.feed_milk()        \n",
    "bat.fly()              \n",
    "bat.echo_location()    \n"
   ]
  },
  {
   "cell_type": "code",
   "execution_count": null,
   "id": "8fe75112",
   "metadata": {},
   "outputs": [],
   "source": []
  }
 ],
 "metadata": {
  "kernelspec": {
   "display_name": "Python 3 (ipykernel)",
   "language": "python",
   "name": "python3"
  },
  "language_info": {
   "codemirror_mode": {
    "name": "ipython",
    "version": 3
   },
   "file_extension": ".py",
   "mimetype": "text/x-python",
   "name": "python",
   "nbconvert_exporter": "python",
   "pygments_lexer": "ipython3",
   "version": "3.9.7"
  }
 },
 "nbformat": 4,
 "nbformat_minor": 5
}
