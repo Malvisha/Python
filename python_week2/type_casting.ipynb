{
 "cells": [
  {
   "cell_type": "code",
   "execution_count": 1,
   "id": "8dbeb67a-e676-4cad-84ff-04ba90ffac74",
   "metadata": {},
   "outputs": [],
   "source": [
    "# convert one data type to another in python."
   ]
  },
  {
   "cell_type": "code",
   "execution_count": 4,
   "id": "26eebd87-d2bb-4006-816b-84874ed81344",
   "metadata": {},
   "outputs": [
    {
     "data": {
      "text/plain": [
       "float"
      ]
     },
     "execution_count": 4,
     "metadata": {},
     "output_type": "execute_result"
    }
   ],
   "source": [
    "# Integers: To convert a value to an integer, you can use the int() function. For example:\n",
    "a = 1.00\n",
    "type(a)"
   ]
  },
  {
   "cell_type": "code",
   "execution_count": 5,
   "id": "046a9efa-3591-4d52-aa67-7bc138333601",
   "metadata": {},
   "outputs": [],
   "source": [
    "b = int(a)"
   ]
  },
  {
   "cell_type": "code",
   "execution_count": 6,
   "id": "dac5d314-381b-473d-9dd7-e39f5fbc6866",
   "metadata": {},
   "outputs": [
    {
     "data": {
      "text/plain": [
       "int"
      ]
     },
     "execution_count": 6,
     "metadata": {},
     "output_type": "execute_result"
    }
   ],
   "source": [
    "type(b)"
   ]
  },
  {
   "cell_type": "code",
   "execution_count": 8,
   "id": "a78b42fa-95cb-4b9d-a7b6-22ebe381a4d3",
   "metadata": {},
   "outputs": [
    {
     "data": {
      "text/plain": [
       "int"
      ]
     },
     "execution_count": 8,
     "metadata": {},
     "output_type": "execute_result"
    }
   ],
   "source": [
    "# Strings: To convert a value to a string, you can use the str() function. For example:\n",
    "c = 56\n",
    "type(c)"
   ]
  },
  {
   "cell_type": "code",
   "execution_count": 9,
   "id": "20814a1d-bd31-41e9-9c67-950ad154dd25",
   "metadata": {},
   "outputs": [],
   "source": [
    "d = str(c)"
   ]
  },
  {
   "cell_type": "code",
   "execution_count": 10,
   "id": "a90ff324-f59d-45af-85a7-6c49e65be039",
   "metadata": {},
   "outputs": [
    {
     "data": {
      "text/plain": [
       "str"
      ]
     },
     "execution_count": 10,
     "metadata": {},
     "output_type": "execute_result"
    }
   ],
   "source": [
    "type(d)"
   ]
  },
  {
   "cell_type": "code",
   "execution_count": 11,
   "id": "cf0ed46e-4cb5-431b-b990-7a8a3d0c9ea7",
   "metadata": {},
   "outputs": [],
   "source": [
    "# similarly we can use float() functions."
   ]
  },
  {
   "cell_type": "code",
   "execution_count": 12,
   "id": "eb500374-24bd-4318-80a4-94bef9f877a2",
   "metadata": {},
   "outputs": [],
   "source": [
    "# Lists, Tuples, and Sets: You can convert a sequence type (list, tuple, set) to another sequence type using their respective constructors. For example:"
   ]
  },
  {
   "cell_type": "code",
   "execution_count": 16,
   "id": "4243ce9e-e8ad-486a-8f19-a62eee701fe5",
   "metadata": {},
   "outputs": [],
   "source": [
    "# Convert a list to a tuple\n",
    "my_list = [1, 2, 3]\n",
    "my_tuple = tuple(my_list)"
   ]
  },
  {
   "cell_type": "code",
   "execution_count": 17,
   "id": "e11c2500-1418-43b0-8c72-bf00b302c4dc",
   "metadata": {},
   "outputs": [
    {
     "data": {
      "text/plain": [
       "(1, 2, 3)"
      ]
     },
     "execution_count": 17,
     "metadata": {},
     "output_type": "execute_result"
    }
   ],
   "source": [
    "my_tuple"
   ]
  },
  {
   "cell_type": "code",
   "execution_count": null,
   "id": "9f0079b5-0c29-468e-8398-75fae5135465",
   "metadata": {},
   "outputs": [],
   "source": []
  }
 ],
 "metadata": {
  "kernelspec": {
   "display_name": "Python 3 (ipykernel)",
   "language": "python",
   "name": "python3"
  },
  "language_info": {
   "codemirror_mode": {
    "name": "ipython",
    "version": 3
   },
   "file_extension": ".py",
   "mimetype": "text/x-python",
   "name": "python",
   "nbconvert_exporter": "python",
   "pygments_lexer": "ipython3",
   "version": "3.10.8"
  }
 },
 "nbformat": 4,
 "nbformat_minor": 5
}
