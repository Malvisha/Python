{
 "cells": [
  {
   "cell_type": "code",
   "execution_count": 1,
   "id": "59dfa7b2-939c-48b6-848f-007a711aa2fb",
   "metadata": {},
   "outputs": [],
   "source": [
    "# slicing"
   ]
  },
  {
   "cell_type": "code",
   "execution_count": 2,
   "id": "2bc3bf99-42ec-4532-ada9-c54e3f843fda",
   "metadata": {},
   "outputs": [],
   "source": [
    "my_list = [1,2,3,4,5]"
   ]
  },
  {
   "cell_type": "code",
   "execution_count": 3,
   "id": "1a1993cd-9f6b-49ae-9463-0b1a7ebf2df2",
   "metadata": {},
   "outputs": [
    {
     "data": {
      "text/plain": [
       "[2, 3]"
      ]
     },
     "execution_count": 3,
     "metadata": {},
     "output_type": "execute_result"
    }
   ],
   "source": [
    "my_list[1:3]"
   ]
  },
  {
   "cell_type": "code",
   "execution_count": 4,
   "id": "3ddd6c3f-f0bc-4a12-9f0a-81a06b6d7a8f",
   "metadata": {},
   "outputs": [],
   "source": [
    "# complex number: In mathematics, a complex number is a number that can be expressed in the form \"a + bi\", where \"a\" and \"b\" are real numbers, and \"i\" is the imaginary unit "
   ]
  },
  {
   "cell_type": "code",
   "execution_count": 7,
   "id": "41fc8e0c-d862-4930-b7ce-ba8023e0bba9",
   "metadata": {},
   "outputs": [],
   "source": [
    "# A complex number consists of a real part and an imaginary part, both of which are floating-point numbers. The imaginary part is denoted by the letter \"j\" or \"J\".\n",
    "exp = 5+8j\n",
    "# here 5 is real part .\n",
    "# 8 is imaginary part.\n"
   ]
  },
  {
   "cell_type": "code",
   "execution_count": 9,
   "id": "0299e717-ef0e-440f-bcfb-0163d596a5bd",
   "metadata": {},
   "outputs": [
    {
     "data": {
      "text/plain": [
       "complex"
      ]
     },
     "execution_count": 9,
     "metadata": {},
     "output_type": "execute_result"
    }
   ],
   "source": [
    "type(exp)"
   ]
  },
  {
   "cell_type": "code",
   "execution_count": 12,
   "id": "c13f78e3-3258-4e74-9ca2-365a51397c75",
   "metadata": {},
   "outputs": [
    {
     "data": {
      "text/plain": [
       "5.0"
      ]
     },
     "execution_count": 12,
     "metadata": {},
     "output_type": "execute_result"
    }
   ],
   "source": [
    "exp.real"
   ]
  },
  {
   "cell_type": "code",
   "execution_count": 13,
   "id": "1092ac5e-f0c3-4a4f-9f0e-3f71452889c6",
   "metadata": {},
   "outputs": [
    {
     "data": {
      "text/plain": [
       "8.0"
      ]
     },
     "execution_count": 13,
     "metadata": {},
     "output_type": "execute_result"
    }
   ],
   "source": [
    "exp.imag"
   ]
  },
  {
   "cell_type": "markdown",
   "id": "881d497c-4c91-4175-a19a-dd04d3d544a0",
   "metadata": {},
   "source": [
    "in python we cannot use another variable except 'j' in imaginary part."
   ]
  },
  {
   "cell_type": "code",
   "execution_count": 14,
   "id": "d875304a-d8c0-4914-a6b1-f6c93995569a",
   "metadata": {},
   "outputs": [
    {
     "ename": "SyntaxError",
     "evalue": "invalid decimal literal (1612345124.py, line 1)",
     "output_type": "error",
     "traceback": [
      "\u001b[0;36m  Cell \u001b[0;32mIn[14], line 1\u001b[0;36m\u001b[0m\n\u001b[0;31m    a = 9+9k\u001b[0m\n\u001b[0m          ^\u001b[0m\n\u001b[0;31mSyntaxError\u001b[0m\u001b[0;31m:\u001b[0m invalid decimal literal\n"
     ]
    }
   ],
   "source": [
    "a = 9+9k"
   ]
  },
  {
   "cell_type": "markdown",
   "id": "a3d84d4e-56b7-4235-8abc-b16cd8ab8bab",
   "metadata": {},
   "source": [
    "as we can see above."
   ]
  }
 ],
 "metadata": {
  "kernelspec": {
   "display_name": "Python 3 (ipykernel)",
   "language": "python",
   "name": "python3"
  },
  "language_info": {
   "codemirror_mode": {
    "name": "ipython",
    "version": 3
   },
   "file_extension": ".py",
   "mimetype": "text/x-python",
   "name": "python",
   "nbconvert_exporter": "python",
   "pygments_lexer": "ipython3",
   "version": "3.10.8"
  }
 },
 "nbformat": 4,
 "nbformat_minor": 5
}
