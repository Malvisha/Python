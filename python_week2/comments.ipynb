{
 "cells": [
  {
   "cell_type": "markdown",
   "id": "6a849096-25d8-4f97-95fb-2dd9b9982593",
   "metadata": {},
   "source": [
    "In Python, comments are used to add explanatory notes or documentation to your code. They are ignored by the interpreter and have no impact on the execution of the program. Comments are extremely useful for making your code more understandable and readable, both for yourself and for other programmers who may work with your code.\n",
    "\n",
    "Comments in python are of two types.\n",
    "\n",
    "1. Single-line comment.\n",
    "2. Multi-line comment."
   ]
  },
  {
   "cell_type": "markdown",
   "id": "cd317b93-176f-4886-b69d-639b018aeb1e",
   "metadata": {},
   "source": [
    "Single-line comment starts with #.\n",
    "# This is single-line comment."
   ]
  },
  {
   "cell_type": "markdown",
   "id": "4271ddb3-c56a-4cff-a3ff-94933eda1052",
   "metadata": {},
   "source": [
    "Multiline comment starts with \"\"\" \"\"\" or ''' '''.\n",
    "\"\"\" This is multi-line comment we can either use single quotes or double quotes for this.\n",
    "this comment is use when we ha"
   ]
  }
 ],
 "metadata": {
  "kernelspec": {
   "display_name": "Python 3 (ipykernel)",
   "language": "python",
   "name": "python3"
  },
  "language_info": {
   "codemirror_mode": {
    "name": "ipython",
    "version": 3
   },
   "file_extension": ".py",
   "mimetype": "text/x-python",
   "name": "python",
   "nbconvert_exporter": "python",
   "pygments_lexer": "ipython3",
   "version": "3.10.8"
  }
 },
 "nbformat": 4,
 "nbformat_minor": 5
}
